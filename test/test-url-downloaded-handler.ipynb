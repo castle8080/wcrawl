{
 "cells": [
  {
   "cell_type": "markdown",
   "metadata": {},
   "source": [
    "# Test Processing a URL after download."
   ]
  },
  {
   "cell_type": "code",
   "execution_count": 1,
   "metadata": {},
   "outputs": [
    {
     "name": "stdout",
     "output_type": "stream",
     "text": [
      "Created [container]\n",
      "  * app_root\n",
      "  * blob_root_directory\n",
      "  * blob_store\n",
      "  * environment_name\n",
      "  * event_publisher\n",
      "  * mongodb_client\n",
      "  * mongodb_credentials\n",
      "  * queue_receiver\n",
      "  * queue_receiver_manager\n",
      "  * queue_sender\n",
      "  * rabbitmq_connection\n",
      "  * rabbitmq_url\n",
      "  * url_download_handler\n",
      "  * url_downloaded_handler\n",
      "  * url_info_store\n",
      "  * url_store\n"
     ]
    }
   ],
   "source": [
    "%run ./setup-logging.ipynb\n",
    "%run ./jupyter-test-support.ipynb\n",
    "%run ./create_container.ipynb"
   ]
  },
  {
   "cell_type": "code",
   "execution_count": 2,
   "metadata": {},
   "outputs": [],
   "source": [
    "from rook.wcrawl.html import html_util\n",
    "from IPython.display import display"
   ]
  },
  {
   "cell_type": "code",
   "execution_count": 5,
   "metadata": {},
   "outputs": [],
   "source": [
    "def store_url(url):\n",
    "    container.url_download_handler()({ 'url': url, 'fire_downloaded': False })\n",
    "    \n",
    "def get_url_content(url):\n",
    "    store_url(url)\n",
    "    return container.url_store().get(url, lambda url_info, fh: (url_info, fh.read()))\n",
    "\n",
    "url = 'https://towardsdatascience.com/'"
   ]
  },
  {
   "cell_type": "code",
   "execution_count": 6,
   "metadata": {},
   "outputs": [
    {
     "name": "stdout",
     "output_type": "stream",
     "text": [
      "DEBUG|2020-11-25 09:48:19,797|MainThread|rook.wcrawl.handlers.url_download_handler|Request to download: {'url': 'https://towardsdatascience.com/', 'fire_downloaded': False}\n"
     ]
    },
    {
     "data": {
      "text/plain": [
       "['http://5d4a6818027f.ngrok.io/',\n",
       " 'http://www.unsplash.com',\n",
       " 'https://cordmaur.medium.com/?source=collection_home---------4----------------------------',\n",
       " 'https://digital.nhs.uk/data-and-information/data-tools-and-services/data-services/hospital-episode-statistics',\n",
       " 'https://github.com/Deffro/statify',\n",
       " 'https://github.com/cdpierse/pyinfer',\n",
       " 'https://google-cloud-data.medium.com/?source=collection_home---------3----------------------------',\n",
       " 'https://help.medium.com/hc/en-us?source=collection_home-------------------------------------',\n",
       " 'https://itunes.apple.com/app/medium-everyones-stories/id828256236?pt=698524&mt=8&ct=collection_home&source=collection_home-------------------------------------',\n",
       " 'https://medium.com/?source=collection_home-------------------------------------',\n",
       " 'https://medium.com/@alexandregonfalonieri?source=collection_home---------1----------------------------',\n",
       " 'https://medium.com/@barrmoses?source=collection_home---------6----------------------------',\n",
       " 'https://medium.com/@charlespierse?source=collection_home---------2----------------------------',\n",
       " 'https://medium.com/@dimitris.effrosynidis?source=collection_home---------5----------------------------',\n",
       " 'https://medium.com/@rwelpton?source=collection_home---------7----------------------------',\n",
       " 'https://medium.com/about?autoplay=1&source=collection_home-------------------------------------',\n",
       " 'https://medium.com/m/signin?actionUrl=%2F_%2Fbookmark%2Fp%2F1f826b0d687b&operation=register&redirect=https%3A%2F%2Ftowardsdatascience.com%2F&source=collection_home---------0-----------------bookmark_preview-----------',\n",
       " 'https://medium.com/m/signin?actionUrl=%2F_%2Fbookmark%2Fp%2F2603c1f56423&operation=register&redirect=https%3A%2F%2Ftowardsdatascience.com%2F&source=collection_home---------3-----------------bookmark_preview-----------',\n",
       " 'https://medium.com/m/signin?actionUrl=%2F_%2Fbookmark%2Fp%2F289b680d0b29&operation=register&redirect=https%3A%2F%2Ftowardsdatascience.com%2F&source=collection_home---------5-----------------bookmark_preview-----------',\n",
       " 'https://medium.com/m/signin?actionUrl=%2F_%2Fbookmark%2Fp%2F3594b178ba9d&operation=register&redirect=https%3A%2F%2Ftowardsdatascience.com%2F&source=collection_home---------6-----------------bookmark_preview-----------',\n",
       " 'https://medium.com/m/signin?actionUrl=%2F_%2Fbookmark%2Fp%2F3e78bc496cb&operation=register&redirect=https%3A%2F%2Ftowardsdatascience.com%2F&source=collection_home---------1-----------------bookmark_preview-----------',\n",
       " 'https://medium.com/m/signin?actionUrl=%2F_%2Fbookmark%2Fp%2F47aae223cd43&operation=register&redirect=https%3A%2F%2Ftowardsdatascience.com%2F&source=collection_home---------8-----------------bookmark_preview-----------',\n",
       " 'https://medium.com/m/signin?actionUrl=%2F_%2Fbookmark%2Fp%2F6e0ddd17ab3e&operation=register&redirect=https%3A%2F%2Ftowardsdatascience.com%2F&source=collection_home---------9-----------------bookmark_preview-----------',\n",
       " 'https://medium.com/m/signin?actionUrl=%2F_%2Fbookmark%2Fp%2F7c5a031e3d16&operation=register&redirect=https%3A%2F%2Ftowardsdatascience.com%2F&source=collection_home---------4-----------------bookmark_preview-----------',\n",
       " 'https://medium.com/m/signin?actionUrl=%2F_%2Fbookmark%2Fp%2F906f6816d01b&operation=register&redirect=https%3A%2F%2Ftowardsdatascience.com%2F&source=collection_home---------2-----------------bookmark_preview-----------',\n",
       " 'https://medium.com/m/signin?actionUrl=%2F_%2Fbookmark%2Fp%2Fd783df14eff8&operation=register&redirect=https%3A%2F%2Ftowardsdatascience.com%2F&source=collection_home---------7-----------------bookmark_preview-----------',\n",
       " 'https://medium.com/m/signin?actionUrl=%2F_%2Fsubscribe%2Fcollection%2Ftowards-data-science&operation=register&redirect=https%3A%2F%2Ftowardsdatascience.com%2F&source=collection_home--------------------------follow_header-----------',\n",
       " 'https://medium.com/m/signin?actionUrl=%2F_%2Fvote%2Ftowards-data-science%2F1f826b0d687b&operation=register&redirect=https%3A%2F%2Ftowardsdatascience.com%2F&source=collection_home-----1f826b0d687b----0-----------------clap_preview-----------',\n",
       " 'https://medium.com/m/signin?actionUrl=%2F_%2Fvote%2Ftowards-data-science%2F2603c1f56423&operation=register&redirect=https%3A%2F%2Ftowardsdatascience.com%2F&source=collection_home-----2603c1f56423----3-----------------clap_preview-----------',\n",
       " 'https://medium.com/m/signin?actionUrl=%2F_%2Fvote%2Ftowards-data-science%2F289b680d0b29&operation=register&redirect=https%3A%2F%2Ftowardsdatascience.com%2F&source=collection_home-----289b680d0b29----5-----------------clap_preview-----------',\n",
       " 'https://medium.com/m/signin?actionUrl=%2F_%2Fvote%2Ftowards-data-science%2F3594b178ba9d&operation=register&redirect=https%3A%2F%2Ftowardsdatascience.com%2F&source=collection_home-----3594b178ba9d----6-----------------clap_preview-----------',\n",
       " 'https://medium.com/m/signin?actionUrl=%2F_%2Fvote%2Ftowards-data-science%2F3e78bc496cb&operation=register&redirect=https%3A%2F%2Ftowardsdatascience.com%2F&source=collection_home-----3e78bc496cb----1-----------------clap_preview-----------',\n",
       " 'https://medium.com/m/signin?actionUrl=%2F_%2Fvote%2Ftowards-data-science%2F47aae223cd43&operation=register&redirect=https%3A%2F%2Ftowardsdatascience.com%2F&source=collection_home-----47aae223cd43----8-----------------clap_preview-----------',\n",
       " 'https://medium.com/m/signin?actionUrl=%2F_%2Fvote%2Ftowards-data-science%2F6e0ddd17ab3e&operation=register&redirect=https%3A%2F%2Ftowardsdatascience.com%2F&source=collection_home-----6e0ddd17ab3e----9-----------------clap_preview-----------',\n",
       " 'https://medium.com/m/signin?actionUrl=%2F_%2Fvote%2Ftowards-data-science%2F7c5a031e3d16&operation=register&redirect=https%3A%2F%2Ftowardsdatascience.com%2F&source=collection_home-----7c5a031e3d16----4-----------------clap_preview-----------',\n",
       " 'https://medium.com/m/signin?actionUrl=%2F_%2Fvote%2Ftowards-data-science%2F906f6816d01b&operation=register&redirect=https%3A%2F%2Ftowardsdatascience.com%2F&source=collection_home-----906f6816d01b----2-----------------clap_preview-----------',\n",
       " 'https://medium.com/m/signin?actionUrl=%2F_%2Fvote%2Ftowards-data-science%2Fd783df14eff8&operation=register&redirect=https%3A%2F%2Ftowardsdatascience.com%2F&source=collection_home-----d783df14eff8----7-----------------clap_preview-----------',\n",
       " 'https://medium.com/m/signin?operation=register&redirect=https%3A%2F%2Ftowardsdatascience.com%2F&source=collection_home--------------------------nav_reg-----------',\n",
       " 'https://medium.com/u/28019e690096?source=collection_home---------9----------------------------',\n",
       " 'https://medium.com/u/3aabed1fd21f?source=collection_home---------9----------------------------',\n",
       " 'https://medium.com/u/5cf900dd43d1?source=collection_home---------9----------------------------',\n",
       " 'https://medium.com/u/7e2a2d1c9e30?source=collection_home---------9----------------------------',\n",
       " 'https://medium.com/u/80e2e35ca93b?source=collection_home---------9----------------------------',\n",
       " 'https://medium.com/u/8ba7bf4ad784?source=collection_home---------9----------------------------',\n",
       " 'https://medium.com/u/b9d77a4ca1d1?source=collection_home---------9----------------------------',\n",
       " 'https://medium.com/u/c155ffc8de0e?source=collection_home---------9----------------------------',\n",
       " 'https://oreilly.medium.com/?source=collection_home---------8----------------------------',\n",
       " 'https://play.google.com/store/apps/details?id=com.medium.reader&source=collection_home-------------------------------------',\n",
       " 'https://policy.medium.com/medium-terms-of-service-9db0094a1e0f?source=collection_home-------------------------------------',\n",
       " 'https://pyinfer.readthedocs.io/en/latest/',\n",
       " 'https://rsci.app.link/?%24canonical_url=https%3A%2F%2Fmedium.com%2Ftowards-data-science&~feature=LoOpenInAppButton&~channel=ShowCollectionHome&~stage=mobileNavBar&source=collection_home-------------------------------------',\n",
       " 'https://towardsdatascience.com/?source=collection_home-------------------------------------',\n",
       " 'https://towardsdatascience.com/about?source=collection_home-------------------------------------',\n",
       " 'https://towardsdatascience.com/basic-statistical-forecasting-in-postgresql-c1d38143bb41',\n",
       " 'https://towardsdatascience.com/brain-data-business-models-how-brain-computer-interface-combined-with-ai-will-fuel-a-lucrative-3e78bc496cb?readmore=1&source=collection_home---------1----------------------------',\n",
       " 'https://towardsdatascience.com/brain-data-business-models-how-brain-computer-interface-combined-with-ai-will-fuel-a-lucrative-3e78bc496cb?responsesOpen=true&source=collection_home---------1----------------------------',\n",
       " 'https://towardsdatascience.com/brain-data-business-models-how-brain-computer-interface-combined-with-ai-will-fuel-a-lucrative-3e78bc496cb?source=collection_home---------1----------------------------',\n",
       " 'https://towardsdatascience.com/creating-statify-an-app-for-your-spotify-statistics-and-what-i-learned-from-it-289b680d0b29?readmore=1&source=collection_home---------5----------------------------',\n",
       " 'https://towardsdatascience.com/creating-statify-an-app-for-your-spotify-statistics-and-what-i-learned-from-it-289b680d0b29?responsesOpen=true&source=collection_home---------5----------------------------',\n",
       " 'https://towardsdatascience.com/creating-statify-an-app-for-your-spotify-statistics-and-what-i-learned-from-it-289b680d0b29?source=collection_home---------5----------------------------',\n",
       " 'https://towardsdatascience.com/detecting-muon-momentum-in-the-cms-experiment-at-cern-using-deep-learning-934b0ef24586',\n",
       " 'https://towardsdatascience.com/distributing-access-not-data-monitoring-who-can-access-patient-data-d783df14eff8?readmore=1&source=collection_home---------7----------------------------',\n",
       " 'https://towardsdatascience.com/distributing-access-not-data-monitoring-who-can-access-patient-data-d783df14eff8?responsesOpen=true&source=collection_home---------7----------------------------',\n",
       " 'https://towardsdatascience.com/distributing-access-not-data-monitoring-who-can-access-patient-data-d783df14eff8?source=collection_home---------7----------------------------',\n",
       " 'https://towardsdatascience.com/editors-picks-e3a2652e9e3',\n",
       " 'https://towardsdatascience.com/evaluating-linear-relationships-1d239f51297b',\n",
       " 'https://towardsdatascience.com/fighting-churn-with-data-an-interview-with-zuora-chief-data-scientist-carl-gold-3594b178ba9d?readmore=1&source=collection_home---------6----------------------------',\n",
       " 'https://towardsdatascience.com/fighting-churn-with-data-an-interview-with-zuora-chief-data-scientist-carl-gold-3594b178ba9d?responsesOpen=true&source=collection_home---------6----------------------------',\n",
       " 'https://towardsdatascience.com/fighting-churn-with-data-an-interview-with-zuora-chief-data-scientist-carl-gold-3594b178ba9d?source=collection_home---------6----------------------------',\n",
       " 'https://towardsdatascience.com/followers?source=collection_home-------------------------------------',\n",
       " 'https://towardsdatascience.com/google-cloud-ai-platform-human-data-labeling-as-a-service-part-1-170cbe73137b',\n",
       " 'https://towardsdatascience.com/google-cloud-ai-platform-human-data-labeling-as-a-service-part-2-2603c1f56423?readmore=1&source=collection_home---------3----------------------------',\n",
       " 'https://towardsdatascience.com/google-cloud-ai-platform-human-data-labeling-as-a-service-part-2-2603c1f56423?responsesOpen=true&source=collection_home---------3----------------------------',\n",
       " 'https://towardsdatascience.com/google-cloud-ai-platform-human-data-labeling-as-a-service-part-2-2603c1f56423?source=collection_home---------3----------------------------',\n",
       " 'https://towardsdatascience.com/google-cloud-ai-platform-hyper-accessible-ai-machine-learning-cddd8c3348b3',\n",
       " 'https://towardsdatascience.com/how-to-automate-lidar-point-cloud-processing-with-python-a027454a536c',\n",
       " 'https://towardsdatascience.com/how-to-benchmark-any-models-inference-statistics-for-production-906f6816d01b?readmore=1&source=collection_home---------2----------------------------',\n",
       " 'https://towardsdatascience.com/how-to-benchmark-any-models-inference-statistics-for-production-906f6816d01b?responsesOpen=true&source=collection_home---------2----------------------------',\n",
       " 'https://towardsdatascience.com/how-to-benchmark-any-models-inference-statistics-for-production-906f6816d01b?source=collection_home---------2----------------------------',\n",
       " 'https://towardsdatascience.com/how-to-get-the-most-out-of-towards-data-science-3bf37f75a345',\n",
       " 'https://towardsdatascience.com/how-to-process-bio-sequences-for-use-in-data-science-7740c199c412',\n",
       " 'https://towardsdatascience.com/i-created-my-own-youtube-algorithm-to-stop-me-wasting-time-afd170f4ca3a',\n",
       " 'https://towardsdatascience.com/latest-picks-evaluating-linear-relationships-6e0ddd17ab3e?responsesOpen=true&source=collection_home---------9----------------------------',\n",
       " 'https://towardsdatascience.com/latest-picks-evaluating-linear-relationships-6e0ddd17ab3e?source=collection_home---------9----------------------------',\n",
       " 'https://towardsdatascience.com/navigation-1f826b0d687b?responsesOpen=true&source=collection_home---------0----------------------------',\n",
       " 'https://towardsdatascience.com/navigation-1f826b0d687b?source=collection_home---------0----------------------------',\n",
       " 'https://towardsdatascience.com/our-columns-53501f74c86d',\n",
       " 'https://towardsdatascience.com/our-tags-1d4f6b370db3',\n",
       " 'https://towardsdatascience.com/questions-96667b06af5',\n",
       " 'https://towardsdatascience.com/receive-our-newsletters-681049ffa0cf',\n",
       " 'https://towardsdatascience.com/tagged/editors-pick',\n",
       " 'https://towardsdatascience.com/tagged/oreilly-insights',\n",
       " 'https://towardsdatascience.com/tech-should-take-a-back-seat-for-data-project-success-47aae223cd43?readmore=1&source=collection_home---------8----------------------------',\n",
       " 'https://towardsdatascience.com/tech-should-take-a-back-seat-for-data-project-success-47aae223cd43?responsesOpen=true&source=collection_home---------8----------------------------',\n",
       " 'https://towardsdatascience.com/tech-should-take-a-back-seat-for-data-project-success-47aae223cd43?source=collection_home---------8----------------------------',\n",
       " 'https://towardsdatascience.com/tensorflow-and-transformers-df6fceaf57cc',\n",
       " 'https://towardsdatascience.com/testing-streamlit-apps-using-seleniumbase-f5b34c0d1423',\n",
       " 'https://towardsdatascience.com/water-detection-in-high-resolution-satellite-images-using-the-waterdetect-python-package-7c5a031e3d16?readmore=1&source=collection_home---------4----------------------------',\n",
       " 'https://towardsdatascience.com/water-detection-in-high-resolution-satellite-images-using-the-waterdetect-python-package-7c5a031e3d16?responsesOpen=true&source=collection_home---------4----------------------------',\n",
       " 'https://towardsdatascience.com/water-detection-in-high-resolution-satellite-images-using-the-waterdetect-python-package-7c5a031e3d16?source=collection_home---------4----------------------------',\n",
       " 'https://towardsdatascience.medium.com/?source=collection_home---------0----------------------------',\n",
       " 'https://towardsdatascience.medium.com/?source=collection_home---------9----------------------------',\n",
       " 'https://twitter.com/TDataScience',\n",
       " 'https://unsplash.com/@chuttersnap?utm_source=medium&utm_medium=referral',\n",
       " 'https://unsplash.com/@dzngriffin?utm_source=medium&utm_medium=referral',\n",
       " 'https://unsplash.com/@imgix?utm_source=unsplash&utm_medium=referral&utm_content=creditCopyText',\n",
       " 'https://unsplash.com/@morganhousel?utm_source=unsplash&utm_medium=referral&utm_content=creditCopyText',\n",
       " 'https://unsplash.com/photos/744oGeqpxPQ',\n",
       " 'https://unsplash.com/s/photos/brain?utm_source=unsplash&utm_medium=referral&utm_content=creditCopyText',\n",
       " 'https://unsplash.com/s/photos/secure-data?utm_source=unsplash&utm_medium=referral&utm_content=creditCopyText',\n",
       " 'https://unsplash.com?utm_source=medium&utm_medium=referral',\n",
       " 'https://www.facebook.com/towardsdatascience/',\n",
       " 'https://www.health.org.uk',\n",
       " 'https://www.instagram.com/towardsdatascience/',\n",
       " 'https://www.linkedin.com/company/towards-data-science/',\n",
       " 'https://www.manning.com/books/fighting-churn-with-data',\n",
       " 'https://www.zuora.com/guides/introduction-to-churn/']"
      ]
     },
     "metadata": {},
     "output_type": "display_data"
    },
    {
     "name": "stdout",
     "output_type": "stream",
     "text": [
      ".\n",
      "----------------------------------------------------------------------\n",
      "Ran 1 test in 2.684s\n",
      "\n",
      "OK\n"
     ]
    }
   ],
   "source": [
    "%%cell_testsuite\n",
    "\n",
    "@cell_test\n",
    "def test_extract_links(self):\n",
    "    url_info, content = get_url_content(url)\n",
    "    links = html_util.extract_links(url_info['url'], content)\n",
    "    self.assertTrue(len(links) > 0)\n",
    "    display(links)"
   ]
  },
  {
   "cell_type": "code",
   "execution_count": null,
   "metadata": {},
   "outputs": [],
   "source": []
  }
 ],
 "metadata": {
  "kernelspec": {
   "display_name": "Python 3",
   "language": "python",
   "name": "python3"
  },
  "language_info": {
   "codemirror_mode": {
    "name": "ipython",
    "version": 3
   },
   "file_extension": ".py",
   "mimetype": "text/x-python",
   "name": "python",
   "nbconvert_exporter": "python",
   "pygments_lexer": "ipython3",
   "version": "3.7.6"
  }
 },
 "nbformat": 4,
 "nbformat_minor": 4
}
