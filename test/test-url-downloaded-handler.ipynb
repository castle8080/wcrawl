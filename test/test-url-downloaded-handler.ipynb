{
 "cells": [
  {
   "cell_type": "markdown",
   "metadata": {},
   "source": [
    "# Test Processing a URL after download."
   ]
  },
  {
   "cell_type": "code",
   "execution_count": 1,
   "metadata": {},
   "outputs": [
    {
     "name": "stdout",
     "output_type": "stream",
     "text": [
      "Created [container]\n",
      "  * app_root\n",
      "  * blob_root_directory\n",
      "  * blob_store\n",
      "  * environment_name\n",
      "  * event_publisher\n",
      "  * mongodb_client\n",
      "  * mongodb_credentials\n",
      "  * queue_receiver\n",
      "  * queue_receiver_manager\n",
      "  * queue_sender\n",
      "  * rabbitmq_connection\n",
      "  * rabbitmq_url\n",
      "  * url_download_handler\n",
      "  * url_downloaded_handler\n",
      "  * url_info_store\n",
      "  * url_store\n"
     ]
    }
   ],
   "source": [
    "%run ./setup-logging.ipynb\n",
    "%run ./jupyter-test-support.ipynb\n",
    "%run ./create_container.ipynb"
   ]
  },
  {
   "cell_type": "code",
   "execution_count": 2,
   "metadata": {},
   "outputs": [],
   "source": [
    "from rook.wcrawl.html import html_util"
   ]
  },
  {
   "cell_type": "code",
   "execution_count": 9,
   "metadata": {},
   "outputs": [],
   "source": [
    "def store_url(url):\n",
    "    container.url_download_handler()({ 'url': url, 'fire_downloaded': False })\n",
    "    \n",
    "def get_url_content(url):\n",
    "    store_url(url)\n",
    "    return container.url_store().get(url, lambda url_info, fh: (url_info, fh.read()))"
   ]
  },
  {
   "cell_type": "code",
   "execution_count": 8,
   "metadata": {},
   "outputs": [
    {
     "name": "stdout",
     "output_type": "stream",
     "text": [
      "E\n",
      "======================================================================\n",
      "ERROR: test_extra_links (__main__.JupyterCellTest)\n",
      "----------------------------------------------------------------------\n",
      "Traceback (most recent call last):\n",
      "  File \"<string>\", line 6, in test_extra_links\n",
      "NameError: name 'get_url_content' is not defined\n",
      "\n",
      "----------------------------------------------------------------------\n",
      "Ran 1 test in 0.002s\n",
      "\n",
      "FAILED (errors=1)\n"
     ]
    }
   ],
   "source": [
    "%%cell_testsuite\n",
    "\n",
    "url = 'https://towardsdatascience.com/'\n",
    "\n",
    "@cell_test\n",
    "def test_extract_links(self):\n",
    "    url_info, content = get_url_content(url)\n",
    "    links = html_util.extract_links(url_info['url'], content)\n",
    "    self.assertTrue(len(links) > 0)"
   ]
  },
  {
   "cell_type": "code",
   "execution_count": 4,
   "metadata": {},
   "outputs": [],
   "source": [
    "container.url_download_handler()({ 'url': url, 'fire_downloaded': False })\n",
    "store_url(url)"
   ]
  },
  {
   "cell_type": "code",
   "execution_count": 5,
   "metadata": {},
   "outputs": [
    {
     "data": {
      "text/plain": [
       "{'content_type': 'text/html; charset=utf-8',\n",
       " 'retrieved': datetime.datetime(2020, 11, 25, 6, 30, 6, 321000),\n",
       " 'url': 'https://towardsdatascience.com/'}"
      ]
     },
     "execution_count": 5,
     "metadata": {},
     "output_type": "execute_result"
    }
   ],
   "source": [
    "url_store = container.url_store()\n",
    "url_info, content = url_store.get(url, lambda url_info, fh: (url_info, fh.read()))\n",
    "url_info"
   ]
  },
  {
   "cell_type": "code",
   "execution_count": 6,
   "metadata": {},
   "outputs": [
    {
     "data": {
      "text/plain": [
       "['https://akashgshastri.medium.com/?source=collection_home---------5----------------------------',\n",
       " 'https://business.linkedin.com/content/dam/me/business/en-us/talent-solutions/emerging-jobs-report/Emerging_Jobs_Report_U.S._FINAL.pdf',\n",
       " 'https://creativecommons.org/licenses/by-sa/4.0/',\n",
       " 'https://deanmcgrath.medium.com/?source=collection_home---------3----------------------------',\n",
       " 'https://en.wikipedia.org/wiki/Probability_axioms',\n",
       " 'https://en.wikipedia.org/wiki/Recurrent_neural_network#/media/File:Recurrent_neural_network_unfold.svg',\n",
       " 'https://github.com/mardani72/Practical_ML_Tutorial_Facies_examp',\n",
       " 'https://help.medium.com/hc/en-us?source=collection_home-------------------------------------',\n",
       " 'https://ifoukarakis.medium.com/?source=collection_home---------7----------------------------',\n",
       " 'https://itunes.apple.com/app/medium-everyones-stories/id828256236?pt=698524&mt=8&ct=collection_home&source=collection_home-------------------------------------',\n",
       " 'https://mab-datasc.medium.com/?source=collection_home---------1----------------------------',\n",
       " 'https://medium.com/',\n",
       " 'https://medium.com/?source=collection_home-------------------------------------',\n",
       " 'https://medium.com/@jdelrio?source=collection_home---------9----------------------------',\n",
       " 'https://medium.com/@mardani.a?source=collection_home---------2----------------------------',\n",
       " 'https://medium.com/@sadhamanus?source=collection_home---------6----------------------------',\n",
       " 'https://medium.com/@tristan.j.alba?source=collection_home---------8----------------------------',\n",
       " 'https://medium.com/about?autoplay=1&source=collection_home-------------------------------------',\n",
       " 'https://medium.com/m/signin?actionUrl=%2F_%2Fbookmark%2Fp%2F1dc818844c0&operation=register&redirect=https%3A%2F%2Ftowardsdatascience.com%2F&source=collection_home---------7-----------------bookmark_preview-----------',\n",
       " 'https://medium.com/m/signin?actionUrl=%2F_%2Fbookmark%2Fp%2F1f826b0d687b&operation=register&redirect=https%3A%2F%2Ftowardsdatascience.com%2F&source=collection_home---------0-----------------bookmark_preview-----------',\n",
       " 'https://medium.com/m/signin?actionUrl=%2F_%2Fbookmark%2Fp%2F5660f11281be&operation=register&redirect=https%3A%2F%2Ftowardsdatascience.com%2F&source=collection_home---------5-----------------bookmark_preview-----------',\n",
       " 'https://medium.com/m/signin?actionUrl=%2F_%2Fbookmark%2Fp%2F764d69f792a5&operation=register&redirect=https%3A%2F%2Ftowardsdatascience.com%2F&source=collection_home---------2-----------------bookmark_preview-----------',\n",
       " 'https://medium.com/m/signin?actionUrl=%2F_%2Fbookmark%2Fp%2F87204b8e3216&operation=register&redirect=https%3A%2F%2Ftowardsdatascience.com%2F&source=collection_home---------1-----------------bookmark_preview-----------',\n",
       " 'https://medium.com/m/signin?actionUrl=%2F_%2Fbookmark%2Fp%2F8e63a86db2ff&operation=register&redirect=https%3A%2F%2Ftowardsdatascience.com%2F&source=collection_home---------4-----------------bookmark_preview-----------',\n",
       " 'https://medium.com/m/signin?actionUrl=%2F_%2Fbookmark%2Fp%2F992ee61e91b3&operation=register&redirect=https%3A%2F%2Ftowardsdatascience.com%2F&source=collection_home---------9-----------------bookmark_preview-----------',\n",
       " 'https://medium.com/m/signin?actionUrl=%2F_%2Fbookmark%2Fp%2Fb1d4a5f4d2c6&operation=register&redirect=https%3A%2F%2Ftowardsdatascience.com%2F&source=collection_home---------3-----------------bookmark_preview-----------',\n",
       " 'https://medium.com/m/signin?actionUrl=%2F_%2Fbookmark%2Fp%2Fdb625e97feb6&operation=register&redirect=https%3A%2F%2Ftowardsdatascience.com%2F&source=collection_home---------8-----------------bookmark_preview-----------',\n",
       " 'https://medium.com/m/signin?actionUrl=%2F_%2Fbookmark%2Fp%2Fe67a9cfc7e4e&operation=register&redirect=https%3A%2F%2Ftowardsdatascience.com%2F&source=collection_home---------6-----------------bookmark_preview-----------',\n",
       " 'https://medium.com/m/signin?actionUrl=%2F_%2Fsubscribe%2Fcollection%2Ftowards-data-science&operation=register&redirect=https%3A%2F%2Ftowardsdatascience.com%2F&source=collection_home--------------------------follow_header-----------',\n",
       " 'https://medium.com/m/signin?actionUrl=%2F_%2Fvote%2Ftowards-data-science%2F1dc818844c0&operation=register&redirect=https%3A%2F%2Ftowardsdatascience.com%2F&source=collection_home-----1dc818844c0----7-----------------clap_preview-----------',\n",
       " 'https://medium.com/m/signin?actionUrl=%2F_%2Fvote%2Ftowards-data-science%2F1f826b0d687b&operation=register&redirect=https%3A%2F%2Ftowardsdatascience.com%2F&source=collection_home-----1f826b0d687b----0-----------------clap_preview-----------',\n",
       " 'https://medium.com/m/signin?actionUrl=%2F_%2Fvote%2Ftowards-data-science%2F5660f11281be&operation=register&redirect=https%3A%2F%2Ftowardsdatascience.com%2F&source=collection_home-----5660f11281be----5-----------------clap_preview-----------',\n",
       " 'https://medium.com/m/signin?actionUrl=%2F_%2Fvote%2Ftowards-data-science%2F764d69f792a5&operation=register&redirect=https%3A%2F%2Ftowardsdatascience.com%2F&source=collection_home-----764d69f792a5----2-----------------clap_preview-----------',\n",
       " 'https://medium.com/m/signin?actionUrl=%2F_%2Fvote%2Ftowards-data-science%2F87204b8e3216&operation=register&redirect=https%3A%2F%2Ftowardsdatascience.com%2F&source=collection_home-----87204b8e3216----1-----------------clap_preview-----------',\n",
       " 'https://medium.com/m/signin?actionUrl=%2F_%2Fvote%2Ftowards-data-science%2F8e63a86db2ff&operation=register&redirect=https%3A%2F%2Ftowardsdatascience.com%2F&source=collection_home-----8e63a86db2ff----4-----------------clap_preview-----------',\n",
       " 'https://medium.com/m/signin?actionUrl=%2F_%2Fvote%2Ftowards-data-science%2F992ee61e91b3&operation=register&redirect=https%3A%2F%2Ftowardsdatascience.com%2F&source=collection_home-----992ee61e91b3----9-----------------clap_preview-----------',\n",
       " 'https://medium.com/m/signin?actionUrl=%2F_%2Fvote%2Ftowards-data-science%2Fb1d4a5f4d2c6&operation=register&redirect=https%3A%2F%2Ftowardsdatascience.com%2F&source=collection_home-----b1d4a5f4d2c6----3-----------------clap_preview-----------',\n",
       " 'https://medium.com/m/signin?actionUrl=%2F_%2Fvote%2Ftowards-data-science%2Fdb625e97feb6&operation=register&redirect=https%3A%2F%2Ftowardsdatascience.com%2F&source=collection_home-----db625e97feb6----8-----------------clap_preview-----------',\n",
       " 'https://medium.com/m/signin?actionUrl=%2F_%2Fvote%2Ftowards-data-science%2Fe67a9cfc7e4e&operation=register&redirect=https%3A%2F%2Ftowardsdatascience.com%2F&source=collection_home-----e67a9cfc7e4e----6-----------------clap_preview-----------',\n",
       " 'https://medium.com/m/signin?operation=register&redirect=https%3A%2F%2Ftowardsdatascience.com%2F&source=collection_home--------------------------nav_reg-----------',\n",
       " 'https://play.google.com/store/apps/details?id=com.medium.reader&source=collection_home-------------------------------------',\n",
       " 'https://policy.medium.com/medium-terms-of-service-9db0094a1e0f?source=collection_home-------------------------------------',\n",
       " 'https://richmondalake.medium.com/?source=collection_home---------4----------------------------',\n",
       " 'https://rsci.app.link/?%24canonical_url=https%3A%2F%2Fmedium.com%2Ftowards-data-science&~feature=LoOpenInAppButton&~channel=ShowCollectionHome&~stage=mobileNavBar&source=collection_home-------------------------------------',\n",
       " 'https://towardsdatascience.com/21-data-science-books-you-should-read-in-2021-db625e97feb6?readmore=1&source=collection_home---------8----------------------------',\n",
       " 'https://towardsdatascience.com/21-data-science-books-you-should-read-in-2021-db625e97feb6?responsesOpen=true&source=collection_home---------8----------------------------',\n",
       " 'https://towardsdatascience.com/21-data-science-books-you-should-read-in-2021-db625e97feb6?source=collection_home---------8----------------------------',\n",
       " 'https://towardsdatascience.com/3-neural-network-architectures-you-need-to-know-for-nlp-5660f11281be?readmore=1&source=collection_home---------5----------------------------',\n",
       " 'https://towardsdatascience.com/3-neural-network-architectures-you-need-to-know-for-nlp-5660f11281be?responsesOpen=true&source=collection_home---------5----------------------------',\n",
       " 'https://towardsdatascience.com/3-neural-network-architectures-you-need-to-know-for-nlp-5660f11281be?source=collection_home---------5----------------------------',\n",
       " 'https://towardsdatascience.com/5-ways-to-become-a-better-machine-learning-practitioner-8e63a86db2ff?readmore=1&source=collection_home---------4----------------------------',\n",
       " 'https://towardsdatascience.com/5-ways-to-become-a-better-machine-learning-practitioner-8e63a86db2ff?responsesOpen=true&source=collection_home---------4----------------------------',\n",
       " 'https://towardsdatascience.com/5-ways-to-become-a-better-machine-learning-practitioner-8e63a86db2ff?source=collection_home---------4----------------------------',\n",
       " 'https://towardsdatascience.com/?source=collection_home-------------------------------------',\n",
       " 'https://towardsdatascience.com/about?source=collection_home-------------------------------------',\n",
       " 'https://towardsdatascience.com/automate-your-job-search-with-python-and-github-actions-1dc818844c0?readmore=1&source=collection_home---------7----------------------------',\n",
       " 'https://towardsdatascience.com/automate-your-job-search-with-python-and-github-actions-1dc818844c0?responsesOpen=true&source=collection_home---------7----------------------------',\n",
       " 'https://towardsdatascience.com/automate-your-job-search-with-python-and-github-actions-1dc818844c0?source=collection_home---------7----------------------------',\n",
       " 'https://towardsdatascience.com/counterfactual-vs-contrastive-explanations-in-artificial-intelligence-e67a9cfc7e4e?readmore=1&source=collection_home---------6----------------------------',\n",
       " 'https://towardsdatascience.com/counterfactual-vs-contrastive-explanations-in-artificial-intelligence-e67a9cfc7e4e?responsesOpen=true&source=collection_home---------6----------------------------',\n",
       " 'https://towardsdatascience.com/counterfactual-vs-contrastive-explanations-in-artificial-intelligence-e67a9cfc7e4e?source=collection_home---------6----------------------------',\n",
       " 'https://towardsdatascience.com/editors-picks-e3a2652e9e3',\n",
       " 'https://towardsdatascience.com/followers?source=collection_home-------------------------------------',\n",
       " 'https://towardsdatascience.com/guide-into-data-science-interview-questions-answers-1-5-fdf910bdd4eb',\n",
       " 'https://towardsdatascience.com/guide-into-data-science-interview-questions-answers-2-5-992ee61e91b3?readmore=1&source=collection_home---------9----------------------------',\n",
       " 'https://towardsdatascience.com/guide-into-data-science-interview-questions-answers-2-5-992ee61e91b3?responsesOpen=true&source=collection_home---------9----------------------------',\n",
       " 'https://towardsdatascience.com/guide-into-data-science-interview-questions-answers-2-5-992ee61e91b3?source=collection_home---------9----------------------------',\n",
       " 'https://towardsdatascience.com/how-to-drop-duplicates-in-pandas-b1d4a5f4d2c6?readmore=1&source=collection_home---------3----------------------------',\n",
       " 'https://towardsdatascience.com/how-to-drop-duplicates-in-pandas-b1d4a5f4d2c6?responsesOpen=true&source=collection_home---------3----------------------------',\n",
       " 'https://towardsdatascience.com/how-to-drop-duplicates-in-pandas-b1d4a5f4d2c6?source=collection_home---------3----------------------------',\n",
       " 'https://towardsdatascience.com/how-to-get-the-most-out-of-towards-data-science-3bf37f75a345',\n",
       " 'https://towardsdatascience.com/learning-data-visualization-differently-87204b8e3216?readmore=1&source=collection_home---------1----------------------------',\n",
       " 'https://towardsdatascience.com/learning-data-visualization-differently-87204b8e3216?responsesOpen=true&source=collection_home---------1----------------------------',\n",
       " 'https://towardsdatascience.com/learning-data-visualization-differently-87204b8e3216?source=collection_home---------1----------------------------',\n",
       " 'https://towardsdatascience.com/navigation-1f826b0d687b?responsesOpen=true&source=collection_home---------0----------------------------',\n",
       " 'https://towardsdatascience.com/navigation-1f826b0d687b?source=collection_home---------0----------------------------',\n",
       " 'https://towardsdatascience.com/our-columns-53501f74c86d',\n",
       " 'https://towardsdatascience.com/our-tags-1d4f6b370db3',\n",
       " 'https://towardsdatascience.com/practical-machine-learning-tutorial-part-1-data-exploratory-analysis-c13d39b8f33b',\n",
       " 'https://towardsdatascience.com/practical-machine-learning-tutorial-part-2-build-model-validate-c98c2ddad744',\n",
       " 'https://towardsdatascience.com/practical-machine-learning-tutorial-part-3-model-evaluation-1-5eefae18ec98',\n",
       " 'https://towardsdatascience.com/practical-machine-learning-tutorial-part-4-model-evaluation-2-764d69f792a5?readmore=1&source=collection_home---------2----------------------------',\n",
       " 'https://towardsdatascience.com/practical-machine-learning-tutorial-part-4-model-evaluation-2-764d69f792a5?responsesOpen=true&source=collection_home---------2----------------------------',\n",
       " 'https://towardsdatascience.com/practical-machine-learning-tutorial-part-4-model-evaluation-2-764d69f792a5?source=collection_home---------2----------------------------',\n",
       " 'https://towardsdatascience.com/questions-96667b06af5',\n",
       " 'https://towardsdatascience.com/receive-our-newsletters-681049ffa0cf',\n",
       " 'https://towardsdatascience.com/tagged/editors-pick',\n",
       " 'https://towardsdatascience.medium.com/?source=collection_home---------0----------------------------',\n",
       " 'https://twitter.com/TDataScience',\n",
       " 'https://unsplash.com/@chrislawton?utm_source=unsplash&utm_medium=referral&utm_content=creditCopyText',\n",
       " 'https://unsplash.com/@christinhumephoto?utm_source=medium&utm_medium=referral',\n",
       " 'https://unsplash.com/@contradirony?utm_source=medium&utm_medium=referral',\n",
       " 'https://unsplash.com/@eseamau?utm_source=medium&utm_medium=referral',\n",
       " 'https://unsplash.com/@hjwinunsplsh?utm_source=unsplash&utm_medium=referral&utm_content=creditCopyText',\n",
       " 'https://unsplash.com/@laughayette?utm_source=medium&utm_medium=referral',\n",
       " 'https://unsplash.com/@youngprodigy3?utm_source=medium&utm_medium=referral',\n",
       " 'https://unsplash.com/s/photos/seasons?utm_source=unsplash&utm_medium=referral&utm_content=creditCopyText',\n",
       " 'https://unsplash.com/s/photos/success?utm_source=unsplash&utm_medium=referral&utm_content=creditCopyText',\n",
       " 'https://unsplash.com?utm_source=medium&utm_medium=referral',\n",
       " 'https://www.facebook.com/towardsdatascience/',\n",
       " 'https://www.instagram.com/towardsdatascience/',\n",
       " 'https://www.linkedin.com/company/towards-data-science/']"
      ]
     },
     "execution_count": 6,
     "metadata": {},
     "output_type": "execute_result"
    }
   ],
   "source": [
    "html_util.extract_links(url_info['url'], content)"
   ]
  },
  {
   "cell_type": "code",
   "execution_count": null,
   "metadata": {},
   "outputs": [],
   "source": []
  }
 ],
 "metadata": {
  "kernelspec": {
   "display_name": "Python 3",
   "language": "python",
   "name": "python3"
  },
  "language_info": {
   "codemirror_mode": {
    "name": "ipython",
    "version": 3
   },
   "file_extension": ".py",
   "mimetype": "text/x-python",
   "name": "python",
   "nbconvert_exporter": "python",
   "pygments_lexer": "ipython3",
   "version": "3.7.6"
  }
 },
 "nbformat": 4,
 "nbformat_minor": 4
}
