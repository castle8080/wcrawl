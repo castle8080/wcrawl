{
 "cells": [
  {
   "cell_type": "markdown",
   "metadata": {},
   "source": [
    "# Test Processing a URL after download."
   ]
  },
  {
   "cell_type": "code",
   "execution_count": 1,
   "metadata": {},
   "outputs": [
    {
     "name": "stdout",
     "output_type": "stream",
     "text": [
      "Created [container]\n",
      "  * app_root\n",
      "  * blob_root_directory\n",
      "  * blob_store\n",
      "  * environment_name\n",
      "  * event_publisher\n",
      "  * mongodb_client\n",
      "  * mongodb_credentials\n",
      "  * queue_receiver\n",
      "  * queue_receiver_manager\n",
      "  * queue_sender\n",
      "  * rabbitmq_connection\n",
      "  * rabbitmq_url\n",
      "  * url_download_handler\n",
      "  * url_downloaded_handler\n",
      "  * url_info_store\n",
      "  * url_store\n"
     ]
    }
   ],
   "source": [
    "%run ./setup-logging.ipynb\n",
    "%run ./jupyter-test-support.ipynb\n",
    "%run ./create_container.ipynb"
   ]
  },
  {
   "cell_type": "code",
   "execution_count": 2,
   "metadata": {},
   "outputs": [],
   "source": [
    "from rook.wcrawl.html import html_util"
   ]
  },
  {
   "cell_type": "code",
   "execution_count": 3,
   "metadata": {},
   "outputs": [],
   "source": [
    "def store_url(url):\n",
    "    container.url_download_handler()({ 'url': url, 'fire_downloaded': False })"
   ]
  },
  {
   "cell_type": "code",
   "execution_count": 4,
   "metadata": {},
   "outputs": [],
   "source": [
    "store_url('https://www.nytimes.com')"
   ]
  },
  {
   "cell_type": "code",
   "execution_count": 4,
   "metadata": {},
   "outputs": [
    {
     "data": {
      "text/plain": [
       "{'content_type': 'text/html; charset=utf-8',\n",
       " 'retrieved': datetime.datetime(2020, 11, 25, 6, 18, 49, 526000),\n",
       " 'url': 'https://www.nytimes.com'}"
      ]
     },
     "execution_count": 4,
     "metadata": {},
     "output_type": "execute_result"
    }
   ],
   "source": [
    "url_store = container.url_store()\n",
    "url_info, content = url_store.get('https://www.nytimes.com', lambda url_info, fh: (url_info, fh.read()))\n",
    "url_info"
   ]
  },
  {
   "cell_type": "code",
   "execution_count": 5,
   "metadata": {},
   "outputs": [
    {
     "data": {
      "text/plain": [
       "['http://nyt.qualtrics.com/jfe/form/SV_eFJmKj9v0krSE0l',\n",
       " 'http://www.tbrandstudio.com/',\n",
       " 'https://cn.nytimes.com',\n",
       " 'https://help.nytimes.com/hc/en-us',\n",
       " 'https://help.nytimes.com/hc/en-us/articles/115014792127-Copyright-notice',\n",
       " 'https://help.nytimes.com/hc/en-us/articles/115014893428-Terms-of-service',\n",
       " 'https://help.nytimes.com/hc/en-us/articles/115014893968-Terms-of-sale',\n",
       " 'https://help.nytimes.com/hc/en-us/articles/115015385887-Contact-Us',\n",
       " 'https://myaccount.nytimes.com/auth/login?response_type=cookie&client_id=vi',\n",
       " 'https://nytmediakit.com/',\n",
       " 'https://spiderbites.nytimes.com',\n",
       " 'https://www.nytco.com/',\n",
       " 'https://www.nytco.com/careers/',\n",
       " 'https://www.nytimes.com/',\n",
       " 'https://www.nytimes.com/2020/11/05/dining/thanksgiving-recipes-staff-picks.html',\n",
       " 'https://www.nytimes.com/2020/11/20/books/review/podcast-joy-williams-ao-scott-apollos-arrow-coronavirus-nicholas-christakis.html',\n",
       " 'https://www.nytimes.com/2020/11/23/at-home/four-walls-three-kids-and-two-parents.html',\n",
       " 'https://www.nytimes.com/2020/11/23/world/asia/afghanistan-video-games-pubg-playerunknown-battlegrounds.html',\n",
       " 'https://www.nytimes.com/2020/11/24/arts/television/macys-thanksgiving-parade-coronavirus.html',\n",
       " 'https://www.nytimes.com/2020/11/24/books/review/the-last-american-aristocrat-henry-adams-david-s-brown.html',\n",
       " 'https://www.nytimes.com/2020/11/24/briefing/stocks-joe-biden-thanksgiving-naps.html',\n",
       " 'https://www.nytimes.com/2020/11/24/business/stock-market-biden.html',\n",
       " 'https://www.nytimes.com/2020/11/24/opinion/a-concerto-is-a-conversation-great-migration.html',\n",
       " 'https://www.nytimes.com/2020/11/24/opinion/election-integrity.html',\n",
       " 'https://www.nytimes.com/2020/11/24/opinion/facebook-disinformation-boomers.html',\n",
       " 'https://www.nytimes.com/2020/11/24/opinion/happiness-depression-suicide-psychology.html',\n",
       " 'https://www.nytimes.com/2020/11/24/opinion/hydroxychloroquine-covid.html',\n",
       " 'https://www.nytimes.com/2020/11/24/opinion/iraq-afghanistan-troop-withdrawal.html',\n",
       " 'https://www.nytimes.com/2020/11/24/opinion/thanksgiving-covid-family.html',\n",
       " 'https://www.nytimes.com/2020/11/24/opinion/trump-election-democracy.html',\n",
       " 'https://www.nytimes.com/2020/11/24/opinion/trump-prosecution.html',\n",
       " 'https://www.nytimes.com/2020/11/24/opinion/trump-voter-fraud-birtherism.html',\n",
       " 'https://www.nytimes.com/2020/11/24/podcasts/the-daily/donald-trump-joe-biden-transition.html',\n",
       " 'https://www.nytimes.com/2020/11/24/podcasts/this-american-life-thanksgiving.html',\n",
       " 'https://www.nytimes.com/2020/11/24/science/artificial-intelligence-ai-gpt3.html',\n",
       " 'https://www.nytimes.com/2020/11/24/sunday-review/boeing-737-max.html',\n",
       " 'https://www.nytimes.com/2020/11/24/travel/hawaii-vacation-at-home.html',\n",
       " 'https://www.nytimes.com/2020/11/24/us/Utah-monolith-red-rock-country.html',\n",
       " 'https://www.nytimes.com/2020/11/24/us/politics/biden-nominees-national-security.html',\n",
       " 'https://www.nytimes.com/2020/11/24/us/politics/election-trump-democracy.html',\n",
       " 'https://www.nytimes.com/2020/11/24/us/politics/ivanka-jared.html',\n",
       " 'https://www.nytimes.com/2020/11/24/us/politics/janet-yellen-treasury-biden.html',\n",
       " 'https://www.nytimes.com/2020/11/24/us/politics/trump-is-said-to-plan-pardon-of-flynn.html',\n",
       " 'https://www.nytimes.com/2020/11/24/world/asia/korea-flu-vaccine-coronavirus-scare.html',\n",
       " 'https://www.nytimes.com/ca/?action=click&region=Editions&pgtype=Homepage',\n",
       " 'https://www.nytimes.com/ca/?action=click&region=Footer&pgtype=Homepage',\n",
       " 'https://www.nytimes.com/es/',\n",
       " 'https://www.nytimes.com/interactive/2020/11/24/upshot/thanksgiving-dinner-survey.html',\n",
       " 'https://www.nytimes.com/international/?action=click&region=Editions&pgtype=Homepage',\n",
       " 'https://www.nytimes.com/international/?action=click&region=Footer&pgtype=Homepage',\n",
       " 'https://www.nytimes.com/live/2020/11/24/world/covid-19-coronavirus',\n",
       " 'https://www.nytimes.com/privacy/cookie-policy#how-do-i-manage-trackers',\n",
       " 'https://www.nytimes.com/privacy/privacy-policy',\n",
       " 'https://www.nytimes.com/section/arts',\n",
       " 'https://www.nytimes.com/section/books',\n",
       " 'https://www.nytimes.com/section/business',\n",
       " 'https://www.nytimes.com/section/food',\n",
       " 'https://www.nytimes.com/section/health',\n",
       " 'https://www.nytimes.com/section/magazine',\n",
       " 'https://www.nytimes.com/section/nyregion',\n",
       " 'https://www.nytimes.com/section/opinion',\n",
       " 'https://www.nytimes.com/section/opinion?pagetype=Homepage&action=click&module=Opinion',\n",
       " 'https://www.nytimes.com/section/politics',\n",
       " 'https://www.nytimes.com/section/realestate',\n",
       " 'https://www.nytimes.com/section/science',\n",
       " 'https://www.nytimes.com/section/sports',\n",
       " 'https://www.nytimes.com/section/style',\n",
       " 'https://www.nytimes.com/section/t-magazine',\n",
       " 'https://www.nytimes.com/section/technology',\n",
       " 'https://www.nytimes.com/section/todayspaper',\n",
       " 'https://www.nytimes.com/section/travel',\n",
       " 'https://www.nytimes.com/section/us',\n",
       " 'https://www.nytimes.com/section/world',\n",
       " 'https://www.nytimes.com/spotlight/at-home',\n",
       " 'https://www.nytimes.com/subscription?campaignId=37WXW',\n",
       " 'https://www.nytimes.com/video']"
      ]
     },
     "execution_count": 5,
     "metadata": {},
     "output_type": "execute_result"
    }
   ],
   "source": [
    "html_util.extract_links(url_info['url'], content)"
   ]
  },
  {
   "cell_type": "code",
   "execution_count": null,
   "metadata": {},
   "outputs": [],
   "source": []
  }
 ],
 "metadata": {
  "kernelspec": {
   "display_name": "Python 3",
   "language": "python",
   "name": "python3"
  },
  "language_info": {
   "codemirror_mode": {
    "name": "ipython",
    "version": 3
   },
   "file_extension": ".py",
   "mimetype": "text/x-python",
   "name": "python",
   "nbconvert_exporter": "python",
   "pygments_lexer": "ipython3",
   "version": "3.7.6"
  }
 },
 "nbformat": 4,
 "nbformat_minor": 4
}
