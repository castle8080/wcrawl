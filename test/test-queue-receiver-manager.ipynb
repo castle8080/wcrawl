{
 "cells": [
  {
   "cell_type": "markdown",
   "metadata": {},
   "source": [
    "# Test Queue Receiver Manager"
   ]
  },
  {
   "cell_type": "code",
   "execution_count": 1,
   "metadata": {},
   "outputs": [
    {
     "name": "stdout",
     "output_type": "stream",
     "text": [
      "Created [container]\n",
      "  * app_root\n",
      "  * blob_root_directory\n",
      "  * blob_store\n",
      "  * environment_name\n",
      "  * event_publisher\n",
      "  * mongodb_client\n",
      "  * mongodb_credentials\n",
      "  * queue_receiver\n",
      "  * queue_receiver_manager\n",
      "  * queue_sender\n",
      "  * rabbitmq_connection\n",
      "  * rabbitmq_url\n",
      "  * url_download_handler\n",
      "  * url_downloaded_handler\n",
      "  * url_info_store\n",
      "  * url_store\n"
     ]
    }
   ],
   "source": [
    "%run ./setup-logging.ipynb\n",
    "%run ./jupyter-test-support.ipynb\n",
    "%run ./create_container.ipynb"
   ]
  },
  {
   "cell_type": "code",
   "execution_count": 2,
   "metadata": {},
   "outputs": [],
   "source": [
    "from rook.wcrawl.event import events"
   ]
  },
  {
   "cell_type": "code",
   "execution_count": 3,
   "metadata": {},
   "outputs": [],
   "source": [
    "qr_manager = container.queue_receiver_manager()\n",
    "q_sender = container.queue_sender()\n",
    "url_downloaded_handler = container.url_downloaded_handler()"
   ]
  },
  {
   "cell_type": "code",
   "execution_count": 4,
   "metadata": {},
   "outputs": [
    {
     "name": "stdout",
     "output_type": "stream",
     "text": [
      "Start receiving from wc_url_downloaded\n",
      "INFO|2020-11-24 22:10:38,190|Thread-6|pika.adapters.utils.connection_workflow|Pika version 1.1.0 connecting to ('::1', 5672, 0, 0)\n",
      "INFO|2020-11-24 22:10:38,192|Thread-6|pika.adapters.utils.io_services_utils|Socket connected: <socket.socket fd=1248, family=AddressFamily.AF_INET6, type=SocketKind.SOCK_STREAM, proto=6, laddr=('::1', 61548, 0, 0), raddr=('::1', 5672, 0, 0)>\n",
      "INFO|2020-11-24 22:10:38,194|Thread-6|pika.adapters.utils.connection_workflow|Streaming transport linked up: (<pika.adapters.utils.io_services_utils._AsyncPlaintextTransport object at 0x000001D41BD67D08>, _StreamingProtocolShim: <SelectConnection PROTOCOL transport=<pika.adapters.utils.io_services_utils._AsyncPlaintextTransport object at 0x000001D41BD67D08> params=<URLParameters host=localhost port=5672 virtual_host=/ ssl=False>>).\n",
      "INFO|2020-11-24 22:10:38,199|Thread-6|pika.adapters.utils.connection_workflow|AMQPConnector - reporting success: <SelectConnection OPEN transport=<pika.adapters.utils.io_services_utils._AsyncPlaintextTransport object at 0x000001D41BD67D08> params=<URLParameters host=localhost port=5672 virtual_host=/ ssl=False>>\n",
      "INFO|2020-11-24 22:10:38,200|Thread-6|pika.adapters.utils.connection_workflow|AMQPConnectionWorkflow - reporting success: <SelectConnection OPEN transport=<pika.adapters.utils.io_services_utils._AsyncPlaintextTransport object at 0x000001D41BD67D08> params=<URLParameters host=localhost port=5672 virtual_host=/ ssl=False>>\n",
      "INFO|2020-11-24 22:10:38,201|Thread-6|pika.adapters.blocking_connection|Connection workflow succeeded: <SelectConnection OPEN transport=<pika.adapters.utils.io_services_utils._AsyncPlaintextTransport object at 0x000001D41BD67D08> params=<URLParameters host=localhost port=5672 virtual_host=/ ssl=False>>\n",
      "INFO|2020-11-24 22:10:38,203|Thread-6|pika.adapters.blocking_connection|Created channel=1\n"
     ]
    }
   ],
   "source": [
    "qr_manager.subscribe(events.URL_DOWNLOADED, url_downloaded_handler)"
   ]
  },
  {
   "cell_type": "code",
   "execution_count": 5,
   "metadata": {},
   "outputs": [
    {
     "name": "stdout",
     "output_type": "stream",
     "text": [
      "INFO|2020-11-24 22:10:41,742|MainThread|pika.adapters.utils.connection_workflow|Pika version 1.1.0 connecting to ('::1', 5672, 0, 0)\n",
      "INFO|2020-11-24 22:10:41,743|MainThread|pika.adapters.utils.io_services_utils|Socket connected: <socket.socket fd=1312, family=AddressFamily.AF_INET6, type=SocketKind.SOCK_STREAM, proto=6, laddr=('::1', 61556, 0, 0), raddr=('::1', 5672, 0, 0)>\n",
      "INFO|2020-11-24 22:10:41,744|MainThread|pika.adapters.utils.connection_workflow|Streaming transport linked up: (<pika.adapters.utils.io_services_utils._AsyncPlaintextTransport object at 0x000001D41B4B7C88>, _StreamingProtocolShim: <SelectConnection PROTOCOL transport=<pika.adapters.utils.io_services_utils._AsyncPlaintextTransport object at 0x000001D41B4B7C88> params=<URLParameters host=localhost port=5672 virtual_host=/ ssl=False>>).\n",
      "INFO|2020-11-24 22:10:41,749|MainThread|pika.adapters.utils.connection_workflow|AMQPConnector - reporting success: <SelectConnection OPEN transport=<pika.adapters.utils.io_services_utils._AsyncPlaintextTransport object at 0x000001D41B4B7C88> params=<URLParameters host=localhost port=5672 virtual_host=/ ssl=False>>\n",
      "INFO|2020-11-24 22:10:41,750|MainThread|pika.adapters.utils.connection_workflow|AMQPConnectionWorkflow - reporting success: <SelectConnection OPEN transport=<pika.adapters.utils.io_services_utils._AsyncPlaintextTransport object at 0x000001D41B4B7C88> params=<URLParameters host=localhost port=5672 virtual_host=/ ssl=False>>\n",
      "INFO|2020-11-24 22:10:41,751|MainThread|pika.adapters.blocking_connection|Connection workflow succeeded: <SelectConnection OPEN transport=<pika.adapters.utils.io_services_utils._AsyncPlaintextTransport object at 0x000001D41B4B7C88> params=<URLParameters host=localhost port=5672 virtual_host=/ ssl=False>>\n",
      "INFO|2020-11-24 22:10:41,752|MainThread|pika.adapters.blocking_connection|Created channel=1\n",
      "INFO|2020-11-24 22:10:41,756|MainThread|pika.adapters.blocking_connection|Closing connection (200): Normal shutdown\n",
      "URLDownloadedHandler: {'url': 'http://foo'}\n",
      "INFO|2020-11-24 22:10:41,757|MainThread|pika.channel|Closing channel (200): 'Normal shutdown' on <Channel number=1 OPEN conn=<SelectConnection OPEN transport=<pika.adapters.utils.io_services_utils._AsyncPlaintextTransport object at 0x000001D41B4B7C88> params=<URLParameters host=localhost port=5672 virtual_host=/ ssl=False>>>\n",
      "INFO|2020-11-24 22:10:41,758|MainThread|pika.channel|Received <Channel.CloseOk> on <Channel number=1 CLOSING conn=<SelectConnection OPEN transport=<pika.adapters.utils.io_services_utils._AsyncPlaintextTransport object at 0x000001D41B4B7C88> params=<URLParameters host=localhost port=5672 virtual_host=/ ssl=False>>>\n",
      "INFO|2020-11-24 22:10:41,759|MainThread|pika.connection|Closing connection (200): 'Normal shutdown'\n",
      "INFO|2020-11-24 22:10:41,760|MainThread|pika.adapters.utils.io_services_utils|Aborting transport connection: state=1; <socket.socket fd=1312, family=AddressFamily.AF_INET6, type=SocketKind.SOCK_STREAM, proto=6, laddr=('::1', 61556, 0, 0), raddr=('::1', 5672, 0, 0)>\n",
      "INFO|2020-11-24 22:10:41,761|MainThread|pika.adapters.utils.io_services_utils|_AsyncTransportBase._initate_abort(): Initiating abrupt asynchronous transport shutdown: state=1; error=None; <socket.socket fd=1312, family=AddressFamily.AF_INET6, type=SocketKind.SOCK_STREAM, proto=6, laddr=('::1', 61556, 0, 0), raddr=('::1', 5672, 0, 0)>\n",
      "INFO|2020-11-24 22:10:41,762|MainThread|pika.adapters.utils.io_services_utils|Deactivating transport: state=1; <socket.socket fd=1312, family=AddressFamily.AF_INET6, type=SocketKind.SOCK_STREAM, proto=6, laddr=('::1', 61556, 0, 0), raddr=('::1', 5672, 0, 0)>\n",
      "INFO|2020-11-24 22:10:41,762|MainThread|pika.connection|AMQP stack terminated, failed to connect, or aborted: opened=True, error-arg=None; pending-error=ConnectionClosedByClient: (200) 'Normal shutdown'\n",
      "INFO|2020-11-24 22:10:41,763|MainThread|pika.connection|Stack terminated due to ConnectionClosedByClient: (200) 'Normal shutdown'\n",
      "INFO|2020-11-24 22:10:41,763|MainThread|pika.adapters.utils.io_services_utils|Closing transport socket and unlinking: state=3; <socket.socket fd=1312, family=AddressFamily.AF_INET6, type=SocketKind.SOCK_STREAM, proto=6, laddr=('::1', 61556, 0, 0), raddr=('::1', 5672, 0, 0)>\n",
      "INFO|2020-11-24 22:10:41,764|MainThread|pika.adapters.blocking_connection|User-initiated close: result=BlockingConnection__OnClosedArgs(connection=<SelectConnection CLOSED transport=None params=<URLParameters host=localhost port=5672 virtual_host=/ ssl=False>>, error=ConnectionClosedByClient: (200) 'Normal shutdown')\n",
      "after\n",
      "after sleep\n"
     ]
    }
   ],
   "source": [
    "q_sender.send(events.URL_DOWNLOADED, { 'url': 'http://foo' })\n",
    "print(\"after\")"
   ]
  },
  {
   "cell_type": "code",
   "execution_count": 6,
   "metadata": {},
   "outputs": [
    {
     "data": {
      "text/plain": [
       "{'wc_url_downloaded': [<QueueReceiverThread(Thread-6, started 16272)>]}"
      ]
     },
     "execution_count": 6,
     "metadata": {},
     "output_type": "execute_result"
    }
   ],
   "source": [
    "qr_manager.receiver_threads"
   ]
  },
  {
   "cell_type": "code",
   "execution_count": null,
   "metadata": {},
   "outputs": [],
   "source": []
  }
 ],
 "metadata": {
  "kernelspec": {
   "display_name": "Python 3",
   "language": "python",
   "name": "python3"
  },
  "language_info": {
   "codemirror_mode": {
    "name": "ipython",
    "version": 3
   },
   "file_extension": ".py",
   "mimetype": "text/x-python",
   "name": "python",
   "nbconvert_exporter": "python",
   "pygments_lexer": "ipython3",
   "version": "3.7.6"
  }
 },
 "nbformat": 4,
 "nbformat_minor": 4
}
