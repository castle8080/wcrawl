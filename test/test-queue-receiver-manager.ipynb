{
 "cells": [
  {
   "cell_type": "markdown",
   "metadata": {},
   "source": [
    "# Test Queue Receiver Manager"
   ]
  },
  {
   "cell_type": "code",
   "execution_count": 1,
   "metadata": {},
   "outputs": [
    {
     "name": "stdout",
     "output_type": "stream",
     "text": [
      "Created [container]\n",
      "  * app_root\n",
      "  * blob_root_directory\n",
      "  * blob_store\n",
      "  * environment_name\n",
      "  * event_publisher\n",
      "  * mongodb_client\n",
      "  * mongodb_credentials\n",
      "  * queue_receiver\n",
      "  * queue_receiver_manager\n",
      "  * queue_sender\n",
      "  * rabbitmq_connection\n",
      "  * rabbitmq_url\n",
      "  * url_download_handler\n",
      "  * url_downloaded_handler\n",
      "  * url_info_store\n",
      "  * url_store\n"
     ]
    }
   ],
   "source": [
    "%run ./setup-logging.ipynb\n",
    "%run ./jupyter-test-support.ipynb\n",
    "%run ./create_container.ipynb"
   ]
  },
  {
   "cell_type": "code",
   "execution_count": 2,
   "metadata": {},
   "outputs": [],
   "source": [
    "from rook.wcrawl.event import events"
   ]
  },
  {
   "cell_type": "code",
   "execution_count": 3,
   "metadata": {},
   "outputs": [],
   "source": [
    "qr_manager = container.queue_receiver_manager()\n",
    "q_sender = container.queue_sender()\n",
    "url_downloaded_handler = container.url_downloaded_handler()"
   ]
  },
  {
   "cell_type": "code",
   "execution_count": 5,
   "metadata": {},
   "outputs": [
    {
     "name": "stdout",
     "output_type": "stream",
     "text": [
      "Start receiving from wc_url_downloaded\n"
     ]
    }
   ],
   "source": [
    "qr_manager.subscribe(events.URL_DOWNLOADED, url_downloaded_handler)"
   ]
  },
  {
   "cell_type": "code",
   "execution_count": 6,
   "metadata": {},
   "outputs": [
    {
     "name": "stdout",
     "output_type": "stream",
     "text": [
      "DEBUG|2020-11-25 09:55:20,351|Thread-6|rook.wcrawl.handlers.url_downloaded_handler|URLDownloadedHandler: {'url': 'http://foo'}\n",
      "after\n",
      "DEBUG|2020-11-25 09:55:21,357|Thread-6|rook.wcrawl.handlers.url_downloaded_handler|after sleep\n"
     ]
    }
   ],
   "source": [
    "q_sender.send(events.URL_DOWNLOADED, { 'url': 'http://foo' })\n",
    "print(\"after\")"
   ]
  },
  {
   "cell_type": "code",
   "execution_count": 7,
   "metadata": {},
   "outputs": [
    {
     "data": {
      "text/plain": [
       "{'wc_url_downloaded': [<QueueReceiverThread(Thread-6, started 15748)>]}"
      ]
     },
     "execution_count": 7,
     "metadata": {},
     "output_type": "execute_result"
    }
   ],
   "source": [
    "qr_manager.receiver_threads"
   ]
  },
  {
   "cell_type": "code",
   "execution_count": null,
   "metadata": {},
   "outputs": [],
   "source": []
  }
 ],
 "metadata": {
  "kernelspec": {
   "display_name": "Python 3",
   "language": "python",
   "name": "python3"
  },
  "language_info": {
   "codemirror_mode": {
    "name": "ipython",
    "version": 3
   },
   "file_extension": ".py",
   "mimetype": "text/x-python",
   "name": "python",
   "nbconvert_exporter": "python",
   "pygments_lexer": "ipython3",
   "version": "3.7.6"
  }
 },
 "nbformat": 4,
 "nbformat_minor": 4
}
