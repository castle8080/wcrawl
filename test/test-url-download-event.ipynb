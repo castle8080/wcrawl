{
 "cells": [
  {
   "cell_type": "markdown",
   "metadata": {},
   "source": [
    "# Test URL Download"
   ]
  },
  {
   "cell_type": "code",
   "execution_count": 1,
   "metadata": {},
   "outputs": [
    {
     "name": "stdout",
     "output_type": "stream",
     "text": [
      "Created [container]\n",
      "  * app_root\n",
      "  * blob_root_directory\n",
      "  * blob_store\n",
      "  * environment_name\n",
      "  * event_publisher\n",
      "  * mongodb_client\n",
      "  * mongodb_credentials\n",
      "  * queue_receiver\n",
      "  * queue_receiver_manager\n",
      "  * queue_sender\n",
      "  * rabbitmq_connection\n",
      "  * rabbitmq_url\n",
      "  * url_download_handler\n",
      "  * url_downloaded_handler\n",
      "  * url_info_store\n",
      "  * url_store\n"
     ]
    }
   ],
   "source": [
    "%run ./setup-logging.ipynb\n",
    "%run ./jupyter-test-support.ipynb\n",
    "%run ./create_container.ipynb"
   ]
  },
  {
   "cell_type": "code",
   "execution_count": 2,
   "metadata": {},
   "outputs": [],
   "source": [
    "from rook.wcrawl.event import events\n",
    "\n",
    "import threading\n",
    "import _thread\n",
    "import time"
   ]
  },
  {
   "cell_type": "code",
   "execution_count": 3,
   "metadata": {},
   "outputs": [
    {
     "name": "stdout",
     "output_type": "stream",
     "text": [
      "URL download request: https://www.nytimes.com/\n",
      "INFO|2020-11-24 22:06:45,838|MainThread|pika.adapters.utils.connection_workflow|Pika version 1.1.0 connecting to ('::1', 5672, 0, 0)\n",
      "INFO|2020-11-24 22:06:45,839|MainThread|pika.adapters.utils.io_services_utils|Socket connected: <socket.socket fd=1188, family=AddressFamily.AF_INET6, type=SocketKind.SOCK_STREAM, proto=6, laddr=('::1', 61226, 0, 0), raddr=('::1', 5672, 0, 0)>\n",
      "INFO|2020-11-24 22:06:45,839|MainThread|pika.adapters.utils.connection_workflow|Streaming transport linked up: (<pika.adapters.utils.io_services_utils._AsyncPlaintextTransport object at 0x0000025C8DD57648>, _StreamingProtocolShim: <SelectConnection PROTOCOL transport=<pika.adapters.utils.io_services_utils._AsyncPlaintextTransport object at 0x0000025C8DD57648> params=<URLParameters host=localhost port=5672 virtual_host=/ ssl=False>>).\n",
      "INFO|2020-11-24 22:06:45,843|MainThread|pika.adapters.utils.connection_workflow|AMQPConnector - reporting success: <SelectConnection OPEN transport=<pika.adapters.utils.io_services_utils._AsyncPlaintextTransport object at 0x0000025C8DD57648> params=<URLParameters host=localhost port=5672 virtual_host=/ ssl=False>>\n",
      "INFO|2020-11-24 22:06:45,844|MainThread|pika.adapters.utils.connection_workflow|AMQPConnectionWorkflow - reporting success: <SelectConnection OPEN transport=<pika.adapters.utils.io_services_utils._AsyncPlaintextTransport object at 0x0000025C8DD57648> params=<URLParameters host=localhost port=5672 virtual_host=/ ssl=False>>\n",
      "INFO|2020-11-24 22:06:45,845|MainThread|pika.adapters.blocking_connection|Connection workflow succeeded: <SelectConnection OPEN transport=<pika.adapters.utils.io_services_utils._AsyncPlaintextTransport object at 0x0000025C8DD57648> params=<URLParameters host=localhost port=5672 virtual_host=/ ssl=False>>\n",
      "INFO|2020-11-24 22:06:45,846|MainThread|pika.adapters.blocking_connection|Created channel=1\n",
      "INFO|2020-11-24 22:06:45,849|MainThread|pika.adapters.blocking_connection|Closing connection (200): Normal shutdown\n",
      "INFO|2020-11-24 22:06:45,850|MainThread|pika.channel|Closing channel (200): 'Normal shutdown' on <Channel number=1 OPEN conn=<SelectConnection OPEN transport=<pika.adapters.utils.io_services_utils._AsyncPlaintextTransport object at 0x0000025C8DD57648> params=<URLParameters host=localhost port=5672 virtual_host=/ ssl=False>>>\n",
      "INFO|2020-11-24 22:06:45,851|MainThread|pika.channel|Received <Channel.CloseOk> on <Channel number=1 CLOSING conn=<SelectConnection OPEN transport=<pika.adapters.utils.io_services_utils._AsyncPlaintextTransport object at 0x0000025C8DD57648> params=<URLParameters host=localhost port=5672 virtual_host=/ ssl=False>>>\n",
      "INFO|2020-11-24 22:06:45,852|MainThread|pika.connection|Closing connection (200): 'Normal shutdown'\n",
      "INFO|2020-11-24 22:06:45,853|MainThread|pika.adapters.utils.io_services_utils|Aborting transport connection: state=1; <socket.socket fd=1188, family=AddressFamily.AF_INET6, type=SocketKind.SOCK_STREAM, proto=6, laddr=('::1', 61226, 0, 0), raddr=('::1', 5672, 0, 0)>\n",
      "INFO|2020-11-24 22:06:45,854|MainThread|pika.adapters.utils.io_services_utils|_AsyncTransportBase._initate_abort(): Initiating abrupt asynchronous transport shutdown: state=1; error=None; <socket.socket fd=1188, family=AddressFamily.AF_INET6, type=SocketKind.SOCK_STREAM, proto=6, laddr=('::1', 61226, 0, 0), raddr=('::1', 5672, 0, 0)>\n",
      "INFO|2020-11-24 22:06:45,855|MainThread|pika.adapters.utils.io_services_utils|Deactivating transport: state=1; <socket.socket fd=1188, family=AddressFamily.AF_INET6, type=SocketKind.SOCK_STREAM, proto=6, laddr=('::1', 61226, 0, 0), raddr=('::1', 5672, 0, 0)>\n",
      "INFO|2020-11-24 22:06:45,855|MainThread|pika.connection|AMQP stack terminated, failed to connect, or aborted: opened=True, error-arg=None; pending-error=ConnectionClosedByClient: (200) 'Normal shutdown'\n",
      "INFO|2020-11-24 22:06:45,856|MainThread|pika.connection|Stack terminated due to ConnectionClosedByClient: (200) 'Normal shutdown'\n",
      "INFO|2020-11-24 22:06:45,857|MainThread|pika.adapters.utils.io_services_utils|Closing transport socket and unlinking: state=3; <socket.socket fd=1188, family=AddressFamily.AF_INET6, type=SocketKind.SOCK_STREAM, proto=6, laddr=('::1', 61226, 0, 0), raddr=('::1', 5672, 0, 0)>\n",
      "INFO|2020-11-24 22:06:45,857|MainThread|pika.adapters.blocking_connection|User-initiated close: result=BlockingConnection__OnClosedArgs(connection=<SelectConnection CLOSED transport=None params=<URLParameters host=localhost port=5672 virtual_host=/ ssl=False>>, error=ConnectionClosedByClient: (200) 'Normal shutdown')\n",
      "URL download request: https://www.yahoo.com/\n",
      "INFO|2020-11-24 22:06:45,860|MainThread|pika.adapters.utils.connection_workflow|Pika version 1.1.0 connecting to ('::1', 5672, 0, 0)\n",
      "INFO|2020-11-24 22:06:45,861|MainThread|pika.adapters.utils.io_services_utils|Socket connected: <socket.socket fd=1372, family=AddressFamily.AF_INET6, type=SocketKind.SOCK_STREAM, proto=6, laddr=('::1', 61229, 0, 0), raddr=('::1', 5672, 0, 0)>\n",
      "INFO|2020-11-24 22:06:45,863|MainThread|pika.adapters.utils.connection_workflow|Streaming transport linked up: (<pika.adapters.utils.io_services_utils._AsyncPlaintextTransport object at 0x0000025C8ED4C488>, _StreamingProtocolShim: <SelectConnection PROTOCOL transport=<pika.adapters.utils.io_services_utils._AsyncPlaintextTransport object at 0x0000025C8ED4C488> params=<URLParameters host=localhost port=5672 virtual_host=/ ssl=False>>).\n",
      "INFO|2020-11-24 22:06:45,871|MainThread|pika.adapters.utils.connection_workflow|AMQPConnector - reporting success: <SelectConnection OPEN transport=<pika.adapters.utils.io_services_utils._AsyncPlaintextTransport object at 0x0000025C8ED4C488> params=<URLParameters host=localhost port=5672 virtual_host=/ ssl=False>>\n",
      "INFO|2020-11-24 22:06:45,872|MainThread|pika.adapters.utils.connection_workflow|AMQPConnectionWorkflow - reporting success: <SelectConnection OPEN transport=<pika.adapters.utils.io_services_utils._AsyncPlaintextTransport object at 0x0000025C8ED4C488> params=<URLParameters host=localhost port=5672 virtual_host=/ ssl=False>>\n",
      "INFO|2020-11-24 22:06:45,873|MainThread|pika.adapters.blocking_connection|Connection workflow succeeded: <SelectConnection OPEN transport=<pika.adapters.utils.io_services_utils._AsyncPlaintextTransport object at 0x0000025C8ED4C488> params=<URLParameters host=localhost port=5672 virtual_host=/ ssl=False>>\n",
      "INFO|2020-11-24 22:06:45,874|MainThread|pika.adapters.blocking_connection|Created channel=1\n",
      "INFO|2020-11-24 22:06:45,880|MainThread|pika.adapters.blocking_connection|Closing connection (200): Normal shutdown\n",
      "INFO|2020-11-24 22:06:45,881|MainThread|pika.channel|Closing channel (200): 'Normal shutdown' on <Channel number=1 OPEN conn=<SelectConnection OPEN transport=<pika.adapters.utils.io_services_utils._AsyncPlaintextTransport object at 0x0000025C8ED4C488> params=<URLParameters host=localhost port=5672 virtual_host=/ ssl=False>>>\n",
      "INFO|2020-11-24 22:06:45,883|MainThread|pika.channel|Received <Channel.CloseOk> on <Channel number=1 CLOSING conn=<SelectConnection OPEN transport=<pika.adapters.utils.io_services_utils._AsyncPlaintextTransport object at 0x0000025C8ED4C488> params=<URLParameters host=localhost port=5672 virtual_host=/ ssl=False>>>\n",
      "INFO|2020-11-24 22:06:45,884|MainThread|pika.connection|Closing connection (200): 'Normal shutdown'\n",
      "INFO|2020-11-24 22:06:45,885|MainThread|pika.adapters.utils.io_services_utils|Aborting transport connection: state=1; <socket.socket fd=1372, family=AddressFamily.AF_INET6, type=SocketKind.SOCK_STREAM, proto=6, laddr=('::1', 61229, 0, 0), raddr=('::1', 5672, 0, 0)>\n",
      "INFO|2020-11-24 22:06:45,885|MainThread|pika.adapters.utils.io_services_utils|_AsyncTransportBase._initate_abort(): Initiating abrupt asynchronous transport shutdown: state=1; error=None; <socket.socket fd=1372, family=AddressFamily.AF_INET6, type=SocketKind.SOCK_STREAM, proto=6, laddr=('::1', 61229, 0, 0), raddr=('::1', 5672, 0, 0)>\n",
      "INFO|2020-11-24 22:06:45,886|MainThread|pika.adapters.utils.io_services_utils|Deactivating transport: state=1; <socket.socket fd=1372, family=AddressFamily.AF_INET6, type=SocketKind.SOCK_STREAM, proto=6, laddr=('::1', 61229, 0, 0), raddr=('::1', 5672, 0, 0)>\n",
      "INFO|2020-11-24 22:06:45,887|MainThread|pika.connection|AMQP stack terminated, failed to connect, or aborted: opened=True, error-arg=None; pending-error=ConnectionClosedByClient: (200) 'Normal shutdown'\n",
      "INFO|2020-11-24 22:06:45,887|MainThread|pika.connection|Stack terminated due to ConnectionClosedByClient: (200) 'Normal shutdown'\n",
      "INFO|2020-11-24 22:06:45,888|MainThread|pika.adapters.utils.io_services_utils|Closing transport socket and unlinking: state=3; <socket.socket fd=1372, family=AddressFamily.AF_INET6, type=SocketKind.SOCK_STREAM, proto=6, laddr=('::1', 61229, 0, 0), raddr=('::1', 5672, 0, 0)>\n",
      "INFO|2020-11-24 22:06:45,889|MainThread|pika.adapters.blocking_connection|User-initiated close: result=BlockingConnection__OnClosedArgs(connection=<SelectConnection CLOSED transport=None params=<URLParameters host=localhost port=5672 virtual_host=/ ssl=False>>, error=ConnectionClosedByClient: (200) 'Normal shutdown')\n",
      ".\n",
      "----------------------------------------------------------------------\n",
      "Ran 1 test in 0.058s\n",
      "\n",
      "OK\n"
     ]
    }
   ],
   "source": [
    "%%cell_testsuite\n",
    "\n",
    "@cell_test\n",
    "def test_send_urls(self):\n",
    "    publisher = container.event_publisher()\n",
    "    publisher.send_url_download('https://www.nytimes.com/')\n",
    "    publisher.send_url_download('https://www.yahoo.com/')"
   ]
  },
  {
   "cell_type": "markdown",
   "metadata": {},
   "source": [
    "## Try receiving\n",
    "The utilities below have a hack to interupt the queue receiver after a delay."
   ]
  },
  {
   "cell_type": "code",
   "execution_count": 4,
   "metadata": {},
   "outputs": [],
   "source": [
    "def send_interrupt_after(seconds):\n",
    "    def execute():\n",
    "        time.sleep(seconds)\n",
    "        _thread.interrupt_main()\n",
    "    t = threading.Thread(target=execute)\n",
    "    t.start()\n",
    "    \n",
    "def run_and_interrupt_after(func, seconds):\n",
    "    send_interrupt_after(seconds)\n",
    "    try:\n",
    "        func()\n",
    "    except KeyboardInterrupt:\n",
    "        pass\n",
    "    \n",
    "def download_requests_for(seconds):\n",
    "    q_receiver = container.queue_receiver()\n",
    "    requests = []\n",
    "    def request_handler(request):\n",
    "        requests.append(request)\n",
    "        \n",
    "    run_and_interrupt_after(lambda: q_receiver.receive(events.URL_DOWNLOAD, request_handler), seconds)\n",
    "    return requests"
   ]
  },
  {
   "cell_type": "code",
   "execution_count": 5,
   "metadata": {},
   "outputs": [
    {
     "name": "stdout",
     "output_type": "stream",
     "text": [
      "INFO|2020-11-24 22:07:23,887|MainThread|pika.adapters.utils.connection_workflow|Pika version 1.1.0 connecting to ('::1', 5672, 0, 0)\n",
      "INFO|2020-11-24 22:07:23,890|MainThread|pika.adapters.utils.io_services_utils|Socket connected: <socket.socket fd=1328, family=AddressFamily.AF_INET6, type=SocketKind.SOCK_STREAM, proto=6, laddr=('::1', 61246, 0, 0), raddr=('::1', 5672, 0, 0)>\n",
      "INFO|2020-11-24 22:07:23,892|MainThread|pika.adapters.utils.connection_workflow|Streaming transport linked up: (<pika.adapters.utils.io_services_utils._AsyncPlaintextTransport object at 0x0000025C8ED76048>, _StreamingProtocolShim: <SelectConnection PROTOCOL transport=<pika.adapters.utils.io_services_utils._AsyncPlaintextTransport object at 0x0000025C8ED76048> params=<URLParameters host=localhost port=5672 virtual_host=/ ssl=False>>).\n",
      "INFO|2020-11-24 22:07:23,899|MainThread|pika.adapters.utils.connection_workflow|AMQPConnector - reporting success: <SelectConnection OPEN transport=<pika.adapters.utils.io_services_utils._AsyncPlaintextTransport object at 0x0000025C8ED76048> params=<URLParameters host=localhost port=5672 virtual_host=/ ssl=False>>\n",
      "INFO|2020-11-24 22:07:23,900|MainThread|pika.adapters.utils.connection_workflow|AMQPConnectionWorkflow - reporting success: <SelectConnection OPEN transport=<pika.adapters.utils.io_services_utils._AsyncPlaintextTransport object at 0x0000025C8ED76048> params=<URLParameters host=localhost port=5672 virtual_host=/ ssl=False>>\n",
      "INFO|2020-11-24 22:07:23,900|MainThread|pika.adapters.blocking_connection|Connection workflow succeeded: <SelectConnection OPEN transport=<pika.adapters.utils.io_services_utils._AsyncPlaintextTransport object at 0x0000025C8ED76048> params=<URLParameters host=localhost port=5672 virtual_host=/ ssl=False>>\n",
      "INFO|2020-11-24 22:07:23,901|MainThread|pika.adapters.blocking_connection|Created channel=1\n",
      "INFO|2020-11-24 22:07:28,909|MainThread|pika.adapters.blocking_connection|Closing connection (200): Normal shutdown\n",
      "INFO|2020-11-24 22:07:28,915|MainThread|pika.channel|Closing channel (200): 'Normal shutdown' on <Channel number=1 OPEN conn=<SelectConnection OPEN transport=<pika.adapters.utils.io_services_utils._AsyncPlaintextTransport object at 0x0000025C8ED76048> params=<URLParameters host=localhost port=5672 virtual_host=/ ssl=False>>>\n",
      "INFO|2020-11-24 22:07:28,919|MainThread|pika.channel|Received <Channel.CloseOk> on <Channel number=1 CLOSING conn=<SelectConnection OPEN transport=<pika.adapters.utils.io_services_utils._AsyncPlaintextTransport object at 0x0000025C8ED76048> params=<URLParameters host=localhost port=5672 virtual_host=/ ssl=False>>>\n",
      "INFO|2020-11-24 22:07:28,921|MainThread|pika.connection|Closing connection (200): 'Normal shutdown'\n",
      "INFO|2020-11-24 22:07:28,925|MainThread|pika.adapters.utils.io_services_utils|Aborting transport connection: state=1; <socket.socket fd=1328, family=AddressFamily.AF_INET6, type=SocketKind.SOCK_STREAM, proto=6, laddr=('::1', 61246, 0, 0), raddr=('::1', 5672, 0, 0)>\n",
      "INFO|2020-11-24 22:07:28,927|MainThread|pika.adapters.utils.io_services_utils|_AsyncTransportBase._initate_abort(): Initiating abrupt asynchronous transport shutdown: state=1; error=None; <socket.socket fd=1328, family=AddressFamily.AF_INET6, type=SocketKind.SOCK_STREAM, proto=6, laddr=('::1', 61246, 0, 0), raddr=('::1', 5672, 0, 0)>\n",
      "INFO|2020-11-24 22:07:28,929|MainThread|pika.adapters.utils.io_services_utils|Deactivating transport: state=1; <socket.socket fd=1328, family=AddressFamily.AF_INET6, type=SocketKind.SOCK_STREAM, proto=6, laddr=('::1', 61246, 0, 0), raddr=('::1', 5672, 0, 0)>\n",
      "INFO|2020-11-24 22:07:28,930|MainThread|pika.connection|AMQP stack terminated, failed to connect, or aborted: opened=True, error-arg=None; pending-error=ConnectionClosedByClient: (200) 'Normal shutdown'\n",
      "INFO|2020-11-24 22:07:28,933|MainThread|pika.connection|Stack terminated due to ConnectionClosedByClient: (200) 'Normal shutdown'\n",
      "INFO|2020-11-24 22:07:28,934|MainThread|pika.adapters.utils.io_services_utils|Closing transport socket and unlinking: state=3; <socket.socket fd=1328, family=AddressFamily.AF_INET6, type=SocketKind.SOCK_STREAM, proto=6, laddr=('::1', 61246, 0, 0), raddr=('::1', 5672, 0, 0)>\n",
      "INFO|2020-11-24 22:07:28,935|MainThread|pika.adapters.blocking_connection|User-initiated close: result=BlockingConnection__OnClosedArgs(connection=<SelectConnection CLOSED transport=None params=<URLParameters host=localhost port=5672 virtual_host=/ ssl=False>>, error=ConnectionClosedByClient: (200) 'Normal shutdown')\n",
      "URL download request: https://www.bing.com/\n",
      "INFO|2020-11-24 22:07:28,939|MainThread|pika.adapters.utils.connection_workflow|Pika version 1.1.0 connecting to ('::1', 5672, 0, 0)\n",
      "INFO|2020-11-24 22:07:28,940|MainThread|pika.adapters.utils.io_services_utils|Socket connected: <socket.socket fd=1252, family=AddressFamily.AF_INET6, type=SocketKind.SOCK_STREAM, proto=6, laddr=('::1', 61251, 0, 0), raddr=('::1', 5672, 0, 0)>\n",
      "INFO|2020-11-24 22:07:28,943|MainThread|pika.adapters.utils.connection_workflow|Streaming transport linked up: (<pika.adapters.utils.io_services_utils._AsyncPlaintextTransport object at 0x0000025C8ED76348>, _StreamingProtocolShim: <SelectConnection PROTOCOL transport=<pika.adapters.utils.io_services_utils._AsyncPlaintextTransport object at 0x0000025C8ED76348> params=<URLParameters host=localhost port=5672 virtual_host=/ ssl=False>>).\n",
      "INFO|2020-11-24 22:07:28,948|MainThread|pika.adapters.utils.connection_workflow|AMQPConnector - reporting success: <SelectConnection OPEN transport=<pika.adapters.utils.io_services_utils._AsyncPlaintextTransport object at 0x0000025C8ED76348> params=<URLParameters host=localhost port=5672 virtual_host=/ ssl=False>>\n",
      "INFO|2020-11-24 22:07:28,949|MainThread|pika.adapters.utils.connection_workflow|AMQPConnectionWorkflow - reporting success: <SelectConnection OPEN transport=<pika.adapters.utils.io_services_utils._AsyncPlaintextTransport object at 0x0000025C8ED76348> params=<URLParameters host=localhost port=5672 virtual_host=/ ssl=False>>\n",
      "INFO|2020-11-24 22:07:28,950|MainThread|pika.adapters.blocking_connection|Connection workflow succeeded: <SelectConnection OPEN transport=<pika.adapters.utils.io_services_utils._AsyncPlaintextTransport object at 0x0000025C8ED76348> params=<URLParameters host=localhost port=5672 virtual_host=/ ssl=False>>\n",
      "INFO|2020-11-24 22:07:28,951|MainThread|pika.adapters.blocking_connection|Created channel=1\n",
      "INFO|2020-11-24 22:07:28,955|MainThread|pika.adapters.blocking_connection|Closing connection (200): Normal shutdown\n",
      "INFO|2020-11-24 22:07:28,956|MainThread|pika.channel|Closing channel (200): 'Normal shutdown' on <Channel number=1 OPEN conn=<SelectConnection OPEN transport=<pika.adapters.utils.io_services_utils._AsyncPlaintextTransport object at 0x0000025C8ED76348> params=<URLParameters host=localhost port=5672 virtual_host=/ ssl=False>>>\n",
      "INFO|2020-11-24 22:07:28,959|MainThread|pika.channel|Received <Channel.CloseOk> on <Channel number=1 CLOSING conn=<SelectConnection OPEN transport=<pika.adapters.utils.io_services_utils._AsyncPlaintextTransport object at 0x0000025C8ED76348> params=<URLParameters host=localhost port=5672 virtual_host=/ ssl=False>>>\n",
      "INFO|2020-11-24 22:07:28,960|MainThread|pika.connection|Closing connection (200): 'Normal shutdown'\n",
      "INFO|2020-11-24 22:07:28,962|MainThread|pika.adapters.utils.io_services_utils|Aborting transport connection: state=1; <socket.socket fd=1252, family=AddressFamily.AF_INET6, type=SocketKind.SOCK_STREAM, proto=6, laddr=('::1', 61251, 0, 0), raddr=('::1', 5672, 0, 0)>\n",
      "INFO|2020-11-24 22:07:28,962|MainThread|pika.adapters.utils.io_services_utils|_AsyncTransportBase._initate_abort(): Initiating abrupt asynchronous transport shutdown: state=1; error=None; <socket.socket fd=1252, family=AddressFamily.AF_INET6, type=SocketKind.SOCK_STREAM, proto=6, laddr=('::1', 61251, 0, 0), raddr=('::1', 5672, 0, 0)>\n",
      "INFO|2020-11-24 22:07:28,963|MainThread|pika.adapters.utils.io_services_utils|Deactivating transport: state=1; <socket.socket fd=1252, family=AddressFamily.AF_INET6, type=SocketKind.SOCK_STREAM, proto=6, laddr=('::1', 61251, 0, 0), raddr=('::1', 5672, 0, 0)>\n",
      "INFO|2020-11-24 22:07:28,965|MainThread|pika.connection|AMQP stack terminated, failed to connect, or aborted: opened=True, error-arg=None; pending-error=ConnectionClosedByClient: (200) 'Normal shutdown'\n",
      "INFO|2020-11-24 22:07:28,966|MainThread|pika.connection|Stack terminated due to ConnectionClosedByClient: (200) 'Normal shutdown'\n",
      "INFO|2020-11-24 22:07:28,967|MainThread|pika.adapters.utils.io_services_utils|Closing transport socket and unlinking: state=3; <socket.socket fd=1252, family=AddressFamily.AF_INET6, type=SocketKind.SOCK_STREAM, proto=6, laddr=('::1', 61251, 0, 0), raddr=('::1', 5672, 0, 0)>\n",
      "INFO|2020-11-24 22:07:28,968|MainThread|pika.adapters.blocking_connection|User-initiated close: result=BlockingConnection__OnClosedArgs(connection=<SelectConnection CLOSED transport=None params=<URLParameters host=localhost port=5672 virtual_host=/ ssl=False>>, error=ConnectionClosedByClient: (200) 'Normal shutdown')\n",
      "INFO|2020-11-24 22:07:28,971|MainThread|pika.adapters.utils.connection_workflow|Pika version 1.1.0 connecting to ('::1', 5672, 0, 0)\n",
      "INFO|2020-11-24 22:07:28,972|MainThread|pika.adapters.utils.io_services_utils|Socket connected: <socket.socket fd=1304, family=AddressFamily.AF_INET6, type=SocketKind.SOCK_STREAM, proto=6, laddr=('::1', 61254, 0, 0), raddr=('::1', 5672, 0, 0)>\n",
      "INFO|2020-11-24 22:07:28,973|MainThread|pika.adapters.utils.connection_workflow|Streaming transport linked up: (<pika.adapters.utils.io_services_utils._AsyncPlaintextTransport object at 0x0000025C8ED78908>, _StreamingProtocolShim: <SelectConnection PROTOCOL transport=<pika.adapters.utils.io_services_utils._AsyncPlaintextTransport object at 0x0000025C8ED78908> params=<URLParameters host=localhost port=5672 virtual_host=/ ssl=False>>).\n",
      "INFO|2020-11-24 22:07:28,977|MainThread|pika.adapters.utils.connection_workflow|AMQPConnector - reporting success: <SelectConnection OPEN transport=<pika.adapters.utils.io_services_utils._AsyncPlaintextTransport object at 0x0000025C8ED78908> params=<URLParameters host=localhost port=5672 virtual_host=/ ssl=False>>\n",
      "INFO|2020-11-24 22:07:28,978|MainThread|pika.adapters.utils.connection_workflow|AMQPConnectionWorkflow - reporting success: <SelectConnection OPEN transport=<pika.adapters.utils.io_services_utils._AsyncPlaintextTransport object at 0x0000025C8ED78908> params=<URLParameters host=localhost port=5672 virtual_host=/ ssl=False>>\n",
      "INFO|2020-11-24 22:07:28,979|MainThread|pika.adapters.blocking_connection|Connection workflow succeeded: <SelectConnection OPEN transport=<pika.adapters.utils.io_services_utils._AsyncPlaintextTransport object at 0x0000025C8ED78908> params=<URLParameters host=localhost port=5672 virtual_host=/ ssl=False>>\n",
      "INFO|2020-11-24 22:07:28,980|MainThread|pika.adapters.blocking_connection|Created channel=1\n",
      "INFO|2020-11-24 22:07:33,984|MainThread|pika.adapters.blocking_connection|Closing connection (200): Normal shutdown\n",
      "INFO|2020-11-24 22:07:33,988|MainThread|pika.channel|Closing channel (200): 'Normal shutdown' on <Channel number=1 OPEN conn=<SelectConnection OPEN transport=<pika.adapters.utils.io_services_utils._AsyncPlaintextTransport object at 0x0000025C8ED78908> params=<URLParameters host=localhost port=5672 virtual_host=/ ssl=False>>>\n",
      "INFO|2020-11-24 22:07:33,992|MainThread|pika.channel|Received <Channel.CloseOk> on <Channel number=1 CLOSING conn=<SelectConnection OPEN transport=<pika.adapters.utils.io_services_utils._AsyncPlaintextTransport object at 0x0000025C8ED78908> params=<URLParameters host=localhost port=5672 virtual_host=/ ssl=False>>>\n",
      "INFO|2020-11-24 22:07:33,994|MainThread|pika.connection|Closing connection (200): 'Normal shutdown'\n",
      "INFO|2020-11-24 22:07:33,997|MainThread|pika.adapters.utils.io_services_utils|Aborting transport connection: state=1; <socket.socket fd=1304, family=AddressFamily.AF_INET6, type=SocketKind.SOCK_STREAM, proto=6, laddr=('::1', 61254, 0, 0), raddr=('::1', 5672, 0, 0)>\n",
      "INFO|2020-11-24 22:07:34,000|MainThread|pika.adapters.utils.io_services_utils|_AsyncTransportBase._initate_abort(): Initiating abrupt asynchronous transport shutdown: state=1; error=None; <socket.socket fd=1304, family=AddressFamily.AF_INET6, type=SocketKind.SOCK_STREAM, proto=6, laddr=('::1', 61254, 0, 0), raddr=('::1', 5672, 0, 0)>\n",
      "INFO|2020-11-24 22:07:34,001|MainThread|pika.adapters.utils.io_services_utils|Deactivating transport: state=1; <socket.socket fd=1304, family=AddressFamily.AF_INET6, type=SocketKind.SOCK_STREAM, proto=6, laddr=('::1', 61254, 0, 0), raddr=('::1', 5672, 0, 0)>\n",
      "INFO|2020-11-24 22:07:34,002|MainThread|pika.connection|AMQP stack terminated, failed to connect, or aborted: opened=True, error-arg=None; pending-error=ConnectionClosedByClient: (200) 'Normal shutdown'\n",
      "INFO|2020-11-24 22:07:34,003|MainThread|pika.connection|Stack terminated due to ConnectionClosedByClient: (200) 'Normal shutdown'\n",
      "INFO|2020-11-24 22:07:34,005|MainThread|pika.adapters.utils.io_services_utils|Closing transport socket and unlinking: state=3; <socket.socket fd=1304, family=AddressFamily.AF_INET6, type=SocketKind.SOCK_STREAM, proto=6, laddr=('::1', 61254, 0, 0), raddr=('::1', 5672, 0, 0)>\n",
      "INFO|2020-11-24 22:07:34,005|MainThread|pika.adapters.blocking_connection|User-initiated close: result=BlockingConnection__OnClosedArgs(connection=<SelectConnection CLOSED transport=None params=<URLParameters host=localhost port=5672 virtual_host=/ ssl=False>>, error=ConnectionClosedByClient: (200) 'Normal shutdown')\n",
      "[{'url': 'https://www.bing.com/'}]\n",
      ".\n",
      "----------------------------------------------------------------------\n",
      "Ran 1 test in 10.124s\n",
      "\n",
      "OK\n"
     ]
    }
   ],
   "source": [
    "%%cell_testsuite\n",
    "\n",
    "@cell_test\n",
    "def test_receive(self):\n",
    "    # Empty the queue\n",
    "    download_requests_for(1)\n",
    "\n",
    "    # Add a record\n",
    "    publisher = container.event_publisher()\n",
    "    publisher.send_url_download('https://www.bing.com/')\n",
    "    \n",
    "    requests = download_requests_for(1)\n",
    "    print(requests)\n",
    "    self.assertEqual(1, len(requests))\n",
    "    self.assertEqual('https://www.bing.com/', requests[0]['url'])"
   ]
  },
  {
   "cell_type": "code",
   "execution_count": null,
   "metadata": {},
   "outputs": [],
   "source": []
  }
 ],
 "metadata": {
  "kernelspec": {
   "display_name": "Python 3",
   "language": "python",
   "name": "python3"
  },
  "language_info": {
   "codemirror_mode": {
    "name": "ipython",
    "version": 3
   },
   "file_extension": ".py",
   "mimetype": "text/x-python",
   "name": "python",
   "nbconvert_exporter": "python",
   "pygments_lexer": "ipython3",
   "version": "3.7.6"
  }
 },
 "nbformat": 4,
 "nbformat_minor": 4
}
