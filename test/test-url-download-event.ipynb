{
 "cells": [
  {
   "cell_type": "markdown",
   "metadata": {},
   "source": [
    "# Test URL Download"
   ]
  },
  {
   "cell_type": "code",
   "execution_count": 1,
   "metadata": {},
   "outputs": [],
   "source": [
    "from rook.wcrawl.event import events\n",
    "\n",
    "import threading\n",
    "import _thread\n",
    "import time"
   ]
  },
  {
   "cell_type": "code",
   "execution_count": 2,
   "metadata": {},
   "outputs": [],
   "source": [
    "%run ./jupyter-test-support.ipynb"
   ]
  },
  {
   "cell_type": "code",
   "execution_count": 3,
   "metadata": {},
   "outputs": [
    {
     "name": "stdout",
     "output_type": "stream",
     "text": [
      "Created [container]\n",
      "  * app_root\n",
      "  * blob_root_directory\n",
      "  * blob_store\n",
      "  * environment_name\n",
      "  * event_publisher\n",
      "  * mongodb_client\n",
      "  * mongodb_credentials\n",
      "  * queue_receiver\n",
      "  * queue_sender\n",
      "  * rabbitmq_connection\n",
      "  * rabbitmq_url\n",
      "  * url_download_handler\n",
      "  * url_info_store\n",
      "  * url_store\n"
     ]
    }
   ],
   "source": [
    "%run ./create_container.ipynb"
   ]
  },
  {
   "cell_type": "code",
   "execution_count": 4,
   "metadata": {},
   "outputs": [
    {
     "name": "stdout",
     "output_type": "stream",
     "text": [
      ".\n",
      "----------------------------------------------------------------------\n",
      "Ran 1 test in 0.096s\n",
      "\n",
      "OK\n"
     ]
    }
   ],
   "source": [
    "%%cell_testsuite\n",
    "\n",
    "@cell_test\n",
    "def test_send_urls(self):\n",
    "    publisher = container.event_publisher()\n",
    "    publisher.send_url_download('https://www.nytimes.com/')\n",
    "    publisher.send_url_download('https://www.yahoo.com/')"
   ]
  },
  {
   "cell_type": "markdown",
   "metadata": {},
   "source": [
    "## Try receiving\n",
    "The utilities below have a hack to interupt the queue receiver after a delay."
   ]
  },
  {
   "cell_type": "code",
   "execution_count": 9,
   "metadata": {},
   "outputs": [],
   "source": [
    "def send_interrupt_after(seconds):\n",
    "    def execute():\n",
    "        time.sleep(seconds)\n",
    "        _thread.interrupt_main()\n",
    "    t = threading.Thread(target=execute)\n",
    "    t.start()\n",
    "    \n",
    "def run_and_interrupt_after(func, seconds):\n",
    "    send_interrupt_after(seconds)\n",
    "    try:\n",
    "        func()\n",
    "    except KeyboardInterrupt:\n",
    "        pass\n",
    "    \n",
    "def download_requests_for(seconds):\n",
    "    q_receiver = container.queue_receiver()\n",
    "    requests = []\n",
    "    def request_handler(request):\n",
    "        requests.append(request)\n",
    "        \n",
    "    run_and_interrupt_after(lambda: q_receiver.receive(events.URL_DOWNLOAD, request_handler), seconds)\n",
    "    return requests"
   ]
  },
  {
   "cell_type": "code",
   "execution_count": 10,
   "metadata": {},
   "outputs": [
    {
     "name": "stdout",
     "output_type": "stream",
     "text": [
      "[{'url': 'https://www.bing.com/'}]\n",
      ".\n",
      "----------------------------------------------------------------------\n",
      "Ran 1 test in 10.122s\n",
      "\n",
      "OK\n"
     ]
    }
   ],
   "source": [
    "%%cell_testsuite\n",
    "\n",
    "@cell_test\n",
    "def test_receive(self):\n",
    "    # Empty the queue\n",
    "    download_requests_for(1)\n",
    "\n",
    "    # Add a record\n",
    "    publisher = container.event_publisher()\n",
    "    publisher.send_url_download('https://www.bing.com/')\n",
    "    \n",
    "    requests = download_requests_for(1)\n",
    "    print(requests)\n",
    "    self.assertEqual(1, len(requests))\n",
    "    self.assertEqual('https://www.bing.com/', requests[0]['url'])"
   ]
  },
  {
   "cell_type": "code",
   "execution_count": null,
   "metadata": {},
   "outputs": [],
   "source": []
  }
 ],
 "metadata": {
  "kernelspec": {
   "display_name": "Python 3",
   "language": "python",
   "name": "python3"
  },
  "language_info": {
   "codemirror_mode": {
    "name": "ipython",
    "version": 3
   },
   "file_extension": ".py",
   "mimetype": "text/x-python",
   "name": "python",
   "nbconvert_exporter": "python",
   "pygments_lexer": "ipython3",
   "version": "3.7.6"
  }
 },
 "nbformat": 4,
 "nbformat_minor": 4
}
