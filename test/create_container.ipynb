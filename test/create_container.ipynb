{
 "cells": [
  {
   "cell_type": "markdown",
   "metadata": {},
   "source": [
    "# Setup Test Container"
   ]
  },
  {
   "cell_type": "code",
   "execution_count": 1,
   "metadata": {},
   "outputs": [],
   "source": [
    "import os\n",
    "from rook.common.container import ContainerBuilder"
   ]
  },
  {
   "cell_type": "code",
   "execution_count": 2,
   "metadata": {},
   "outputs": [
    {
     "name": "stdout",
     "output_type": "stream",
     "text": [
      "Created Container:\n",
      "  * app_root\n",
      "  * blob_store\n",
      "  * environment_name\n",
      "  * event_publisher\n",
      "  * mongodb_credentials\n",
      "  * queue_receiver\n",
      "  * queue_sender\n",
      "  * rabbitmq_connection\n",
      "  * rabbitmq_url\n",
      "  * url_download_handler\n"
     ]
    }
   ],
   "source": [
    "def create_container():\n",
    "    app_root = os.path.dirname(os.getcwd())\n",
    "    cb = ContainerBuilder('test-system-configuration')\n",
    "\n",
    "    cb.add_object(\"app_root\", app_root)\n",
    "    cb.add_object(\"environment_name\", \"test\")\n",
    "    cb.load_configuration(f\"{app_root}/var/conf/test.json\")\n",
    "\n",
    "    cb.load_providers(\"rook.wcrawl.providers.base_provider\")\n",
    "    cb.load_providers(\"rook.wcrawl.providers.mongodb_provider\")\n",
    "    cb.load_providers(\"rook.wcrawl.providers.rabbitmq_provider\")\n",
    "    cb.load_providers(\"rook.wcrawl.providers.filesystem_provider\")\n",
    "    return cb()\n",
    "\n",
    "container = create_container()\n",
    "print(\"Created [container]\")\n",
    "for e in dir(container):\n",
    "    if not e.startswith(\"_\"):\n",
    "        print(f\"  * {e}\")"
   ]
  }
 ],
 "metadata": {
  "kernelspec": {
   "display_name": "Python 3",
   "language": "python",
   "name": "python3"
  },
  "language_info": {
   "codemirror_mode": {
    "name": "ipython",
    "version": 3
   },
   "file_extension": ".py",
   "mimetype": "text/x-python",
   "name": "python",
   "nbconvert_exporter": "python",
   "pygments_lexer": "ipython3",
   "version": "3.7.6"
  }
 },
 "nbformat": 4,
 "nbformat_minor": 4
}
