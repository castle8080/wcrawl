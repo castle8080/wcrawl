{
 "cells": [
  {
   "cell_type": "markdown",
   "metadata": {},
   "source": [
    "# Test download request store"
   ]
  },
  {
   "cell_type": "code",
   "execution_count": 1,
   "metadata": {},
   "outputs": [
    {
     "name": "stdout",
     "output_type": "stream",
     "text": [
      "Created [container]\n",
      "  * app_root\n",
      "  * blob_root_directory\n",
      "  * blob_store\n",
      "  * download_request_store\n",
      "  * environment_name\n",
      "  * event_publisher\n",
      "  * mongodb_client\n",
      "  * mongodb_credentials\n",
      "  * mongodb_db_name\n",
      "  * queue_receiver\n",
      "  * queue_receiver_manager\n",
      "  * queue_sender\n",
      "  * rabbitmq_connection\n",
      "  * rabbitmq_url\n",
      "  * url_download_handler\n",
      "  * url_downloaded_handler\n",
      "  * url_info_store\n",
      "  * url_store\n"
     ]
    }
   ],
   "source": [
    "%run ./setup-logging.ipynb\n",
    "%run ./jupyter-test-support.ipynb\n",
    "%run ./create_container.ipynb"
   ]
  },
  {
   "cell_type": "code",
   "execution_count": 2,
   "metadata": {},
   "outputs": [],
   "source": [
    "download_request_store = container.download_request_store()\n",
    "\n",
    "urls = [\n",
    "    'https://www.towardsdatascience.com/',\n",
    "    'https://www.towardsdatascience.com/article1',\n",
    "    'https://www.newyorktimes.com/',\n",
    "    'https://www.towardsdatascience.com/',\n",
    "    'https://www.google.com/',\n",
    "    'https://www.bing.com/',\n",
    "    'https://www.foobar.com/'\n",
    "]"
   ]
  },
  {
   "cell_type": "code",
   "execution_count": 3,
   "metadata": {},
   "outputs": [
    {
     "name": "stdout",
     "output_type": "stream",
     "text": [
      "..\n",
      "----------------------------------------------------------------------\n",
      "Ran 2 tests in 0.038s\n",
      "\n",
      "OK\n"
     ]
    }
   ],
   "source": [
    "%%cell_testsuite\n",
    "\n",
    "@cell_test\n",
    "def test_size(self):\n",
    "    self.assertTrue(download_request_store.size() >= 0)\n",
    "\n",
    "@cell_test\n",
    "def test_clear(self):\n",
    "    download_request_store.clear()\n",
    "    self.assertEqual(0, download_request_store.size())\n",
    "    self.assertEqual(0, len(download_request_store.list()))"
   ]
  },
  {
   "cell_type": "code",
   "execution_count": 4,
   "metadata": {},
   "outputs": [
    {
     "name": "stdout",
     "output_type": "stream",
     "text": [
      "[True] -> https://www.towardsdatascience.com/\n",
      "[True] -> https://www.towardsdatascience.com/article1\n",
      "[True] -> https://www.newyorktimes.com/\n",
      "[False] -> https://www.towardsdatascience.com/\n",
      "[True] -> https://www.google.com/\n",
      "[True] -> https://www.bing.com/\n",
      "[True] -> https://www.foobar.com/\n",
      ".\n",
      "----------------------------------------------------------------------\n",
      "Ran 1 test in 0.024s\n",
      "\n",
      "OK\n"
     ]
    }
   ],
   "source": [
    "%%cell_testsuite\n",
    "\n",
    "@cell_test\n",
    "def test_add(self):\n",
    "    download_request_store.clear()\n",
    "    \n",
    "    seen_urls = set()\n",
    "    for url in urls:\n",
    "        expected = url not in seen_urls\n",
    "        r = download_request_store.add(url)\n",
    "        self.assertEqual(expected, r)\n",
    "        seen_urls.add(url)\n",
    "        print(f\"[{r}] -> {url}\")\n",
    "        \n",
    "    # Adding again should return false\n",
    "    for url in urls:\n",
    "        r = download_request_store.add(url)\n",
    "        self.assertFalse(r)\n",
    "        \n",
    "    # Check the list in db\n",
    "    requests = download_request_store.list()\n",
    "    \n",
    "    urls_in_db = { r['url'] for r in requests }\n",
    "    self.assertSetEqual(seen_urls, urls_in_db)"
   ]
  },
  {
   "cell_type": "code",
   "execution_count": 5,
   "metadata": {},
   "outputs": [
    {
     "name": "stdout",
     "output_type": "stream",
     "text": [
      ".\n",
      "----------------------------------------------------------------------\n",
      "Ran 1 test in 0.025s\n",
      "\n",
      "OK\n"
     ]
    }
   ],
   "source": [
    "%%cell_testsuite\n",
    "\n",
    "@cell_test\n",
    "def test_remove(self):\n",
    "    download_request_store.clear()\n",
    "    \n",
    "    for url in urls:\n",
    "        download_request_store.add(url)\n",
    "    self.assertTrue(download_request_store.size() > 0)\n",
    "    \n",
    "    for url in urls:\n",
    "        download_request_store.remove(url)\n",
    "        \n",
    "    self.assertEqual(0, download_request_store.size())"
   ]
  },
  {
   "cell_type": "code",
   "execution_count": null,
   "metadata": {},
   "outputs": [],
   "source": []
  }
 ],
 "metadata": {
  "kernelspec": {
   "display_name": "Python 3",
   "language": "python",
   "name": "python3"
  },
  "language_info": {
   "codemirror_mode": {
    "name": "ipython",
    "version": 3
   },
   "file_extension": ".py",
   "mimetype": "text/x-python",
   "name": "python",
   "nbconvert_exporter": "python",
   "pygments_lexer": "ipython3",
   "version": "3.7.6"
  }
 },
 "nbformat": 4,
 "nbformat_minor": 4
}
