{
 "cells": [
  {
   "cell_type": "markdown",
   "metadata": {},
   "source": [
    "# Adds jupyter inline magic to run unit test methods in a cell\n",
    "\n",
    "Example in cell\n",
    "\n",
    "<code>\n",
    "%%cell_testsuite\n",
    "    \n",
    "@cell_test\n",
    "def test_it(self):\n",
    "    self.assertEqual(1, 1)\n",
    "</code>\n"
   ]
  },
  {
   "cell_type": "code",
   "execution_count": 3,
   "metadata": {},
   "outputs": [],
   "source": [
    "import unittest\n",
    "import sys\n",
    "\n",
    "import IPython.core.magic\n",
    "\n",
    "if \"__CELL_TEST_SUITE__\" not in globals():\n",
    "    __CELL_TEST_SUITE__ = []\n",
    "\n",
    "@IPython.core.magic.register_cell_magic\n",
    "def cell_testsuite(line, cell):\n",
    "    __CELL_TEST_SUITE__.clear()\n",
    "    exec(cell)\n",
    "    methods = { f.__name__: f for f in __CELL_TEST_SUITE__ }\n",
    "    test_type = type('JupyterCellTest', tuple([unittest.TestCase]), methods)\n",
    "    test_suite = unittest.defaultTestLoader.loadTestsFromTestCase(test_type)\n",
    "    test_runner = unittest.TextTestRunner(sys.stdout)\n",
    "    test_runner.run(test_suite)\n",
    "    \n",
    "def cell_test(func):\n",
    "    __CELL_TEST_SUITE__.append(func)"
   ]
  },
  {
   "cell_type": "code",
   "execution_count": null,
   "metadata": {},
   "outputs": [],
   "source": []
  }
 ],
 "metadata": {
  "kernelspec": {
   "display_name": "Python 3",
   "language": "python",
   "name": "python3"
  },
  "language_info": {
   "codemirror_mode": {
    "name": "ipython",
    "version": 3
   },
   "file_extension": ".py",
   "mimetype": "text/x-python",
   "name": "python",
   "nbconvert_exporter": "python",
   "pygments_lexer": "ipython3",
   "version": "3.7.6"
  }
 },
 "nbformat": 4,
 "nbformat_minor": 4
}
