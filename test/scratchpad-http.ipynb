{
 "cells": [
  {
   "cell_type": "markdown",
   "metadata": {},
   "source": [
    "# URL Downloading and HTML Parsing Scratchpad"
   ]
  },
  {
   "cell_type": "code",
   "execution_count": 1,
   "metadata": {},
   "outputs": [],
   "source": [
    "import requests\n",
    "from bs4 import BeautifulSoup"
   ]
  },
  {
   "cell_type": "code",
   "execution_count": 2,
   "metadata": {},
   "outputs": [
    {
     "name": "stdout",
     "output_type": "stream",
     "text": [
      "200\n",
      "text/html; charset=utf-8\n"
     ]
    }
   ],
   "source": [
    "resp = requests.get(\"https://www.nytimes.com/\")\n",
    "print(resp.status_code)\n",
    "print(resp.headers['Content-Type'])"
   ]
  },
  {
   "cell_type": "code",
   "execution_count": 3,
   "metadata": {},
   "outputs": [
    {
     "data": {
      "text/plain": [
       "{'#after-dfp-ad-mid1-large',\n",
       " '#after-dfp-ad-top',\n",
       " '#site-content',\n",
       " '#site-index',\n",
       " '/',\n",
       " '/2020/11/12/books/best-books-live-event.html',\n",
       " '/2020/11/19/dining/drinks/wine-grapes.html',\n",
       " '/2020/11/20/books/review/new-paperbacks.html',\n",
       " '/2020/11/22/opinion/2020-election-success.html',\n",
       " '/2020/11/22/opinion/trump-election-democracy.html',\n",
       " '/2020/11/22/sports/ahmaud-arbery-running-black.html',\n",
       " '/2020/11/22/us/politics/sidney-powell-trump.html',\n",
       " '/2020/11/23/books/review/best-books.html',\n",
       " '/2020/11/23/briefing/antony-blinken-biden-coronavirus-sidney-powell.html',\n",
       " '/2020/11/23/business/media/ad-council-covid-vaccine-skeptics.html',\n",
       " '/2020/11/23/opinion/brain-neuroscience-stress.html',\n",
       " '/2020/11/23/opinion/giuliani-trump-biden-election.html',\n",
       " '/2020/11/23/opinion/myanmar-election.html',\n",
       " '/2020/11/23/opinion/thanksgiving-covid-families.html',\n",
       " '/2020/11/23/opinion/trump-election-courts.html',\n",
       " '/2020/11/23/opinion/trump-fitspo.html',\n",
       " '/2020/11/23/opinion/trump-republicans-election-2020.html',\n",
       " '/2020/11/23/opinion/uighur-poetry-xinjiang-china.html',\n",
       " '/2020/11/23/podcasts/the-daily/new-york-city-school-reopening.html',\n",
       " '/2020/11/23/science/artificial-intelligence-ai-physics-theory.html',\n",
       " '/2020/11/23/travel/barroso-portugal-agriculture.html',\n",
       " '/2020/11/23/us/pandemic-montana-wilderness-rush.html',\n",
       " '/2020/11/23/us/politics/ossoff-perdue-loeffler-warnock.html',\n",
       " '/2020/11/23/us/trump-economy-ny.html',\n",
       " '/2020/11/23/world/asia/china-xi-jinping-globalization.html',\n",
       " '/2020/11/23/world/bill-gates-vaccine-coronavirus.html',\n",
       " '/2020/11/23/world/korean-adoptees-reunions.html',\n",
       " '/ca/?action=click&region=Editions&pgtype=Homepage',\n",
       " '/interactive/2020/11/23/opinion/covid-thanksgiving-travel.html',\n",
       " '/international/?action=click&region=Editions&pgtype=Homepage',\n",
       " 'http://nyt.qualtrics.com/jfe/form/SV_eFJmKj9v0krSE0l',\n",
       " 'http://www.tbrandstudio.com/',\n",
       " 'https://cn.nytimes.com',\n",
       " 'https://help.nytimes.com/hc/en-us',\n",
       " 'https://help.nytimes.com/hc/en-us/articles/115014792127-Copyright-notice',\n",
       " 'https://help.nytimes.com/hc/en-us/articles/115014893428-Terms-of-service',\n",
       " 'https://help.nytimes.com/hc/en-us/articles/115014893968-Terms-of-sale',\n",
       " 'https://help.nytimes.com/hc/en-us/articles/115015385887-Contact-Us',\n",
       " 'https://myaccount.nytimes.com/auth/login?response_type=cookie&client_id=vi',\n",
       " 'https://nytmediakit.com/',\n",
       " 'https://spiderbites.nytimes.com',\n",
       " 'https://www.nytco.com/',\n",
       " 'https://www.nytco.com/careers/',\n",
       " 'https://www.nytimes.com/2020/11/22/us/politics/biden-antony-blinken-secretary-of-state.html',\n",
       " 'https://www.nytimes.com/2020/11/23/us/politics/biden-nominees.html',\n",
       " 'https://www.nytimes.com/ca/?action=click&region=Footer&pgtype=Homepage',\n",
       " 'https://www.nytimes.com/es/',\n",
       " 'https://www.nytimes.com/international/?action=click&region=Footer&pgtype=Homepage',\n",
       " 'https://www.nytimes.com/live/2020/11/23/business/us-economy-coronavirus?type=styln-live-updates&label=economy&index=2',\n",
       " 'https://www.nytimes.com/live/2020/11/23/business/us-economy-coronavirus?type=styln-live-updates&label=economy&index=2#gm-will-recall-nearly-six-million-cars-to-replace-a-faulty-airbag-inflater',\n",
       " 'https://www.nytimes.com/live/2020/11/23/business/us-economy-coronavirus?type=styln-live-updates&label=economy&index=2#more-than-one-million-travelers-were-screened-at-airports-on-sunday-a-new-high-in-the-pandemic',\n",
       " 'https://www.nytimes.com/live/2020/11/23/us/joe-biden-trump?type=styln-live-updates&label=presidential transition&index=0',\n",
       " 'https://www.nytimes.com/live/2020/11/23/us/joe-biden-trump?type=styln-live-updates&label=presidential%20transition&index=0#biden-will-nominate-the-first-woman-to-lead-intelligence-and-the-first-latino-to-run-homeland-security',\n",
       " 'https://www.nytimes.com/live/2020/11/23/us/joe-biden-trump?type=styln-live-updates&label=presidential%20transition&index=0#pennsylvania-and-michigan-will-consider-certifying-election-results-today',\n",
       " 'https://www.nytimes.com/live/2020/11/23/world/covid-19-coronavirus?type=styln-live-updates&label=virus&index=1',\n",
       " 'https://www.nytimes.com/live/2020/11/23/world/covid-19-coronavirus?type=styln-live-updates&label=virus&index=1#a-50-million-ad-blitz-will-try-to-turn-covid-19-vaccine-skeptics-into-believers',\n",
       " 'https://www.nytimes.com/live/2020/11/23/world/covid-19-coronavirus?type=styln-live-updates&label=virus&index=1#drugmaker-becomes-the-third-major-vaccine-developer-to-announce-promising-results',\n",
       " 'https://www.nytimes.com/privacy/cookie-policy#how-do-i-manage-trackers',\n",
       " 'https://www.nytimes.com/privacy/privacy-policy',\n",
       " 'https://www.nytimes.com/section/arts',\n",
       " 'https://www.nytimes.com/section/books',\n",
       " 'https://www.nytimes.com/section/business',\n",
       " 'https://www.nytimes.com/section/food',\n",
       " 'https://www.nytimes.com/section/health',\n",
       " 'https://www.nytimes.com/section/magazine',\n",
       " 'https://www.nytimes.com/section/nyregion',\n",
       " 'https://www.nytimes.com/section/opinion',\n",
       " 'https://www.nytimes.com/section/opinion?pagetype=Homepage&action=click&module=Opinion',\n",
       " 'https://www.nytimes.com/section/politics',\n",
       " 'https://www.nytimes.com/section/realestate',\n",
       " 'https://www.nytimes.com/section/science',\n",
       " 'https://www.nytimes.com/section/sports',\n",
       " 'https://www.nytimes.com/section/style',\n",
       " 'https://www.nytimes.com/section/t-magazine',\n",
       " 'https://www.nytimes.com/section/technology',\n",
       " 'https://www.nytimes.com/section/todayspaper',\n",
       " 'https://www.nytimes.com/section/travel',\n",
       " 'https://www.nytimes.com/section/us',\n",
       " 'https://www.nytimes.com/section/world',\n",
       " 'https://www.nytimes.com/spotlight/at-home',\n",
       " 'https://www.nytimes.com/subscription?campaignId=37WXW',\n",
       " 'https://www.nytimes.com/video'}"
      ]
     },
     "execution_count": 3,
     "metadata": {},
     "output_type": "execute_result"
    }
   ],
   "source": [
    "html = BeautifulSoup(resp.content)\n",
    "links = set(anchor.attrs['href'] for anchor in html.find_all('a'))\n",
    "links"
   ]
  },
  {
   "cell_type": "code",
   "execution_count": null,
   "metadata": {},
   "outputs": [],
   "source": []
  }
 ],
 "metadata": {
  "kernelspec": {
   "display_name": "Python 3",
   "language": "python",
   "name": "python3"
  },
  "language_info": {
   "codemirror_mode": {
    "name": "ipython",
    "version": 3
   },
   "file_extension": ".py",
   "mimetype": "text/x-python",
   "name": "python",
   "nbconvert_exporter": "python",
   "pygments_lexer": "ipython3",
   "version": "3.7.6"
  }
 },
 "nbformat": 4,
 "nbformat_minor": 4
}
