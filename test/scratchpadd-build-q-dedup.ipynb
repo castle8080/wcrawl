{
 "cells": [
  {
   "cell_type": "markdown",
   "metadata": {},
   "source": [
    "# Build Up Code for Queue Depduping\n",
    "\n",
    "I need a way to not put dedupped url download requests in the download queue. Otherwise the queue will grow unbounded as each page is likely to have more than 1 link.\n"
   ]
  },
  {
   "cell_type": "code",
   "execution_count": 1,
   "metadata": {},
   "outputs": [
    {
     "name": "stdout",
     "output_type": "stream",
     "text": [
      "Created [container]\n",
      "  * app_root\n",
      "  * blob_root_directory\n",
      "  * blob_store\n",
      "  * environment_name\n",
      "  * event_publisher\n",
      "  * mongodb_client\n",
      "  * mongodb_credentials\n",
      "  * queue_receiver\n",
      "  * queue_receiver_manager\n",
      "  * queue_sender\n",
      "  * rabbitmq_connection\n",
      "  * rabbitmq_url\n",
      "  * url_download_handler\n",
      "  * url_downloaded_handler\n",
      "  * url_info_store\n",
      "  * url_store\n"
     ]
    }
   ],
   "source": [
    "%run ./setup-logging.ipynb\n",
    "%run ./jupyter-test-support.ipynb\n",
    "%run ./create_container.ipynb"
   ]
  },
  {
   "cell_type": "code",
   "execution_count": 18,
   "metadata": {},
   "outputs": [],
   "source": [
    "import datetime as dt\n",
    "import pymongo\n",
    "from pymongo.errors import DuplicateKeyError"
   ]
  },
  {
   "cell_type": "code",
   "execution_count": 101,
   "metadata": {},
   "outputs": [],
   "source": [
    "class MongoDBURLDownloadRequests:\n",
    "    \n",
    "    def __init__(self, mongodb_client):\n",
    "        self.mongodb_client = mongodb_client\n",
    "        self.db = self.mongodb_client.wcrawl\n",
    "        self.download_requests = self.db.download_requests\n",
    "        \n",
    "    def add(self, url):\n",
    "        try:\n",
    "            self.download_requests.insert_one({ '_id': url, 'request_datetime': dt.datetime.utcnow()})\n",
    "            return True\n",
    "        except DuplicateKeyError as e:\n",
    "            return False\n",
    "    \n",
    "    def remove(self, url):\n",
    "        result = self.download_requests.delete_one({'_id': url})\n",
    "        return result.deleted_count == 1\n",
    "    \n",
    "    def clear(self):\n",
    "        result = self.download_requests.delete_many({})\n",
    "        return result.deleted_count\n",
    "    \n",
    "    def pop_random(self):\n",
    "        results = list(self.download_requests.aggregate([{ '$sample': { 'size': 1 } }]))\n",
    "        if len(results) > 0:\n",
    "            result = results[0]\n",
    "            self.download_requests.delete_one({ '_id': result['_id'] })\n",
    "            result['url'] = result['_id']\n",
    "            del(result['_id'])\n",
    "            return result\n",
    "        else:\n",
    "            return None\n",
    "    "
   ]
  },
  {
   "cell_type": "code",
   "execution_count": 102,
   "metadata": {},
   "outputs": [],
   "source": [
    "download_requests = MongoDBURLDownloadRequests(container.mongodb_client())"
   ]
  },
  {
   "cell_type": "code",
   "execution_count": 103,
   "metadata": {},
   "outputs": [
    {
     "data": {
      "text/plain": [
       "6"
      ]
     },
     "execution_count": 103,
     "metadata": {},
     "output_type": "execute_result"
    }
   ],
   "source": [
    "download_requests.clear()"
   ]
  },
  {
   "cell_type": "code",
   "execution_count": 111,
   "metadata": {},
   "outputs": [],
   "source": [
    "urls = [\n",
    "    'https://www.towardsdatascience.com/',\n",
    "    'https://www.towardsdatascience.com/article1',\n",
    "    'https://www.newyorktimes.com/',\n",
    "    'https://www.towardsdatascience.com/',\n",
    "    'https://www.google.com/',\n",
    "    'https://www.bing.com/',\n",
    "    'https://www.foobar.com/'\n",
    "]\n",
    "\n",
    "def add_urls():\n",
    "    for url in urls:\n",
    "        r = download_requests.add(url)\n",
    "        print(f\"[{r}] -> {url}\")\n",
    "\n",
    "def list_requests():      \n",
    "    return list(download_requests.download_requests.find({}))\n",
    "\n",
    "def pop_requests():\n",
    "    requests = []\n",
    "    while True:\n",
    "        r = download_requests.pop_random()\n",
    "        if r is None:\n",
    "            return requests\n",
    "        else:\n",
    "            requests.append(r)"
   ]
  },
  {
   "cell_type": "code",
   "execution_count": 112,
   "metadata": {},
   "outputs": [
    {
     "name": "stdout",
     "output_type": "stream",
     "text": [
      "[True] -> https://www.towardsdatascience.com/\n",
      "[True] -> https://www.towardsdatascience.com/article1\n",
      "[True] -> https://www.newyorktimes.com/\n",
      "[False] -> https://www.towardsdatascience.com/\n",
      "[True] -> https://www.google.com/\n",
      "[True] -> https://www.bing.com/\n",
      "[True] -> https://www.foobar.com/\n"
     ]
    },
    {
     "data": {
      "text/plain": [
       "[{'request_datetime': datetime.datetime(2020, 11, 25, 18, 37, 34, 225000),\n",
       "  'url': 'https://www.towardsdatascience.com/'},\n",
       " {'request_datetime': datetime.datetime(2020, 11, 25, 18, 37, 34, 235000),\n",
       "  'url': 'https://www.foobar.com/'},\n",
       " {'request_datetime': datetime.datetime(2020, 11, 25, 18, 37, 34, 233000),\n",
       "  'url': 'https://www.google.com/'},\n",
       " {'request_datetime': datetime.datetime(2020, 11, 25, 18, 37, 34, 234000),\n",
       "  'url': 'https://www.bing.com/'},\n",
       " {'request_datetime': datetime.datetime(2020, 11, 25, 18, 37, 34, 229000),\n",
       "  'url': 'https://www.newyorktimes.com/'},\n",
       " {'request_datetime': datetime.datetime(2020, 11, 25, 18, 37, 34, 227000),\n",
       "  'url': 'https://www.towardsdatascience.com/article1'}]"
      ]
     },
     "execution_count": 112,
     "metadata": {},
     "output_type": "execute_result"
    }
   ],
   "source": [
    "add_urls()\n",
    "pop_requests()"
   ]
  },
  {
   "cell_type": "code",
   "execution_count": 113,
   "metadata": {},
   "outputs": [
    {
     "name": "stdout",
     "output_type": "stream",
     "text": [
      "[True] -> https://www.towardsdatascience.com/\n",
      "[True] -> https://www.towardsdatascience.com/article1\n",
      "[True] -> https://www.newyorktimes.com/\n",
      "[False] -> https://www.towardsdatascience.com/\n",
      "[True] -> https://www.google.com/\n",
      "[True] -> https://www.bing.com/\n",
      "[True] -> https://www.foobar.com/\n"
     ]
    },
    {
     "data": {
      "text/plain": [
       "[{'request_datetime': datetime.datetime(2020, 11, 25, 18, 37, 38, 262000),\n",
       "  'url': 'https://www.newyorktimes.com/'},\n",
       " {'request_datetime': datetime.datetime(2020, 11, 25, 18, 37, 38, 258000),\n",
       "  'url': 'https://www.towardsdatascience.com/'},\n",
       " {'request_datetime': datetime.datetime(2020, 11, 25, 18, 37, 38, 269000),\n",
       "  'url': 'https://www.foobar.com/'},\n",
       " {'request_datetime': datetime.datetime(2020, 11, 25, 18, 37, 38, 260000),\n",
       "  'url': 'https://www.towardsdatascience.com/article1'},\n",
       " {'request_datetime': datetime.datetime(2020, 11, 25, 18, 37, 38, 267000),\n",
       "  'url': 'https://www.google.com/'},\n",
       " {'request_datetime': datetime.datetime(2020, 11, 25, 18, 37, 38, 268000),\n",
       "  'url': 'https://www.bing.com/'}]"
      ]
     },
     "execution_count": 113,
     "metadata": {},
     "output_type": "execute_result"
    }
   ],
   "source": [
    "add_urls()\n",
    "pop_requests()"
   ]
  },
  {
   "cell_type": "code",
   "execution_count": null,
   "metadata": {},
   "outputs": [],
   "source": []
  }
 ],
 "metadata": {
  "kernelspec": {
   "display_name": "Python 3",
   "language": "python",
   "name": "python3"
  },
  "language_info": {
   "codemirror_mode": {
    "name": "ipython",
    "version": 3
   },
   "file_extension": ".py",
   "mimetype": "text/x-python",
   "name": "python",
   "nbconvert_exporter": "python",
   "pygments_lexer": "ipython3",
   "version": "3.7.6"
  }
 },
 "nbformat": 4,
 "nbformat_minor": 4
}
