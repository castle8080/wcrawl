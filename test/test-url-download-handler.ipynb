{
 "cells": [
  {
   "cell_type": "markdown",
   "metadata": {},
   "source": [
    "# Test download handler"
   ]
  },
  {
   "cell_type": "code",
   "execution_count": 1,
   "metadata": {},
   "outputs": [],
   "source": [
    "%run ./jupyter-test-support.ipynb"
   ]
  },
  {
   "cell_type": "code",
   "execution_count": 2,
   "metadata": {},
   "outputs": [
    {
     "name": "stdout",
     "output_type": "stream",
     "text": [
      "Created [container]\n",
      "  * app_root\n",
      "  * blob_root_directory\n",
      "  * blob_store\n",
      "  * environment_name\n",
      "  * event_publisher\n",
      "  * mongodb_client\n",
      "  * mongodb_credentials\n",
      "  * queue_receiver\n",
      "  * queue_sender\n",
      "  * rabbitmq_connection\n",
      "  * rabbitmq_url\n",
      "  * url_download_handler\n",
      "  * url_info_store\n",
      "  * url_store\n"
     ]
    }
   ],
   "source": [
    "%run ./create_container.ipynb"
   ]
  },
  {
   "cell_type": "code",
   "execution_count": 3,
   "metadata": {},
   "outputs": [],
   "source": [
    "import types\n",
    "from rook.wcrawl.event import events\n",
    "from rook.common.queue.queue import ListQueueSender"
   ]
  },
  {
   "cell_type": "code",
   "execution_count": 4,
   "metadata": {},
   "outputs": [],
   "source": [
    "# Override the queue sender\n",
    "queue_sender = ListQueueSender()\n",
    "\n",
    "container.queue_sender = types.MethodType((lambda self: queue_sender), container)"
   ]
  },
  {
   "cell_type": "code",
   "execution_count": 5,
   "metadata": {},
   "outputs": [
    {
     "name": "stdout",
     "output_type": "stream",
     "text": [
      "Request to download: https://www.bing.com/robots.txt\n",
      ".\n",
      "----------------------------------------------------------------------\n",
      "Ran 1 test in 0.215s\n",
      "\n",
      "OK\n"
     ]
    }
   ],
   "source": [
    "%%cell_testsuite\n",
    "\n",
    "@cell_test\n",
    "def test_download(self):\n",
    "    queue_sender.clear()\n",
    "    download_handler = container.url_download_handler()\n",
    "    url_store = container.url_store()\n",
    "\n",
    "    url = 'https://www.bing.com/robots.txt'\n",
    "    download_handler({ 'url': url })\n",
    "    url_info, content = url_store.get(url, lambda url_info, fh: (url_info, fh.read()))\n",
    "    self.assertTrue(len(content) > 0)\n",
    "    msg = queue_sender.next_message(events.URL_DOWNLOADED)\n",
    "    self.assertEqual(url, msg['url'])"
   ]
  }
 ],
 "metadata": {
  "kernelspec": {
   "display_name": "Python 3",
   "language": "python",
   "name": "python3"
  },
  "language_info": {
   "codemirror_mode": {
    "name": "ipython",
    "version": 3
   },
   "file_extension": ".py",
   "mimetype": "text/x-python",
   "name": "python",
   "nbconvert_exporter": "python",
   "pygments_lexer": "ipython3",
   "version": "3.7.6"
  }
 },
 "nbformat": 4,
 "nbformat_minor": 4
}
