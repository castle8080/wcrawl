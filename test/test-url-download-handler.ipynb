{
 "cells": [
  {
   "cell_type": "markdown",
   "metadata": {},
   "source": [
    "# Test download handler"
   ]
  },
  {
   "cell_type": "code",
   "execution_count": 1,
   "metadata": {},
   "outputs": [
    {
     "name": "stdout",
     "output_type": "stream",
     "text": [
      "Created [container]\n",
      "  * app_root\n",
      "  * blob_root_directory\n",
      "  * blob_store\n",
      "  * download_request_store\n",
      "  * environment_name\n",
      "  * event_publisher\n",
      "  * mongodb_client\n",
      "  * mongodb_credentials\n",
      "  * mongodb_db_name\n",
      "  * queue_receiver\n",
      "  * queue_receiver_manager\n",
      "  * queue_sender\n",
      "  * rabbitmq_connection\n",
      "  * rabbitmq_url\n",
      "  * robot_store\n",
      "  * url_download_handler\n",
      "  * url_downloaded_handler\n",
      "  * url_info_store\n",
      "  * url_store\n"
     ]
    }
   ],
   "source": [
    "%run ./setup-logging.ipynb\n",
    "%run ./jupyter-test-support.ipynb\n",
    "%run ./create_container.ipynb"
   ]
  },
  {
   "cell_type": "code",
   "execution_count": 2,
   "metadata": {},
   "outputs": [
    {
     "name": "stdout",
     "output_type": "stream",
     "text": [
      "DEBUG|2020-11-25 21:31:42,459|MainThread|rook.wcrawl.handlers.url_download_handler|Request to download: {'url': 'https://www.bing.com/robots.txt', 'fire_downloaded': False}\n",
      "2456\n",
      ".\n",
      "----------------------------------------------------------------------\n",
      "Ran 1 test in 0.270s\n",
      "\n",
      "OK\n"
     ]
    }
   ],
   "source": [
    "%%cell_testsuite\n",
    "\n",
    "@cell_test\n",
    "def test_download(self):\n",
    "    download_handler = container.url_download_handler()\n",
    "    url_store = container.url_store()\n",
    "    url = 'https://www.bing.com/robots.txt'\n",
    "    download_handler({ 'url': url, 'fire_downloaded': False })\n",
    "    url_info, content = url_store.get(url, lambda url_info, fh: (url_info, fh.read()))\n",
    "    self.assertTrue(len(content) > 0)\n",
    "    print(len(content))"
   ]
  },
  {
   "cell_type": "code",
   "execution_count": 3,
   "metadata": {},
   "outputs": [],
   "source": [
    "robot_store = container.robot_store()\n",
    "download_handler = container.url_download_handler()"
   ]
  },
  {
   "cell_type": "code",
   "execution_count": 4,
   "metadata": {},
   "outputs": [
    {
     "name": "stdout",
     "output_type": "stream",
     "text": [
      "{'content_type': 'text/plain; charset=utf-8', 'retrieved': datetime.datetime(2020, 11, 26, 2, 34, 13, 109000), 'url': 'https://towardsdatascience.com/robots.txt'}\n",
      ".\n",
      "----------------------------------------------------------------------\n",
      "Ran 1 test in 0.006s\n",
      "\n",
      "OK\n"
     ]
    }
   ],
   "source": [
    "%%cell_testsuite\n",
    "\n",
    "@cell_test\n",
    "def test_domain_with_robots(self):\n",
    "    url = 'https://towardsdatascience.com/part-of-speech-tagging-for-beginners-3a0754b2ebba?source=collection_home---------5----------------------------'\n",
    "    rf = robot_store.get_robots(url, download_handler)\n",
    "    \n",
    "    self.assertTrue(rf.can_fetch('*', url))\n",
    "    \n",
    "    disallowed_paths = [rl.path for rl in rf.default_entry.rulelines if not rl.allowance]\n",
    "    self.assertFalse(rf.can_fetch('*', 'https://towardsdatascience.com' + disallowed_paths[0]))"
   ]
  },
  {
   "cell_type": "code",
   "execution_count": null,
   "metadata": {},
   "outputs": [],
   "source": []
  }
 ],
 "metadata": {
  "kernelspec": {
   "display_name": "Python 3",
   "language": "python",
   "name": "python3"
  },
  "language_info": {
   "codemirror_mode": {
    "name": "ipython",
    "version": 3
   },
   "file_extension": ".py",
   "mimetype": "text/x-python",
   "name": "python",
   "nbconvert_exporter": "python",
   "pygments_lexer": "ipython3",
   "version": "3.7.6"
  }
 },
 "nbformat": 4,
 "nbformat_minor": 4
}
